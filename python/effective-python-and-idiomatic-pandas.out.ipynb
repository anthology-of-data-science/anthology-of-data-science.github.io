{
  "cells": [
    {
      "cell_type": "markdown",
      "metadata": {},
      "source": [
        "# Effective Python and idiomatic pandas\n",
        "\n",
        "Daniel Kapitan  \n",
        "2022-09-18\n",
        "\n",
        "## A functional approach to Python\n",
        "\n",
        "After you have gained basic working knowledge of Python, it is essential\n",
        "that you continue to develop your skills to write effective Python and\n",
        "use pandas in an idiomatic way. This notebook provides guidelines how to\n",
        "do this. It is very opinionated, and based on a functional programming\n",
        "approach to Python. Functional programming defines a computation using\n",
        "expressions and evaluation—often encapsulated in function definitions.\n",
        "It de-emphasizes or avoids the complexity of state change and mutable\n",
        "objects. This tends to create programs that are more succinct and\n",
        "expressive. Since you can’t easily create purely functional programs in\n",
        "Python, we take a hybrid approach, using functional features where we\n",
        "can add clariy or simplify the code. There are several key features of\n",
        "functional programming that are available in Python which we will use.\n",
        "\n",
        "Functional programming is often a very good fit for data analysis.\n",
        "\n",
        "-   Use functions as first-class objects, meaning you can assign\n",
        "    functions to variables and pass functions as arguments in other\n",
        "    functions allowing for for composability of complex functions for\n",
        "    data pipelines using smaller, more simple ones.\n",
        "-   Use of higher-order functions that operate on lists (iterables),\n",
        "    like `sorted()`, `min()` and `max()`. NumPy and pandas follow this\n",
        "    same principle with so-called [universal\n",
        "    functions](https://numpy.org/doc/stable/reference/ufuncs.html),\n",
        "    being functions that operate on `ndarrays` in an element-by-element\n",
        "    fashion, supporting array broadcasting, type casting, and several\n",
        "    other standard features.\n",
        "-   Functional programmes often exploits immutable data structures.\n",
        "    Python offers tuples, namedtuples and frozen dataclass as complex\n",
        "    but immutable objects. Although NumPy arrays and pandas DataFrames\n",
        "    are mutable, we will adhere to the principle of immutable in data\n",
        "    pipelines as much as possible.\n",
        "\n",
        "## Structure of notebook\n",
        "\n",
        "This notebook is structred in a couple of chapters with a number of\n",
        "related items. Feel free to jump between the items. Each item contains\n",
        "concise and specific guidance explaining how you can write effective,\n",
        "functional Python. We have used the following books and online\n",
        "resources, which are recommended for further reading:\n",
        "\n",
        "-   [Effective Python, 2nd edition](https://effectivepython.com/), by\n",
        "    Brett Slatkin (eBook: EUR 30). Referenced as EP for items that have\n",
        "    been taken from this book (which is warmly recommended).\n",
        "-   Blog posts on [Modern\n",
        "    pandas](https://tomaugspurger.github.io/modern-1-intro.html) by Tom\n",
        "    Augspurger.\n",
        "-   [Functional Python\n",
        "    Programming](https://www.packtpub.com/product/functional-python-programming-second-edition/9781788627061)\n",
        "    by Steven F. Lott (eBook: EUR 5).\n",
        "-   Intermediate tutorials for data science on [Real\n",
        "    Python](https://realpython.com/learning-paths/data-science-python-core-skills/).\n",
        "\n",
        "## Pythonic thinking\n",
        "\n",
        "### #1. Follow the PEP-8 style guide (EP #2)\n",
        "\n",
        "Python Enhancement Proposal #8, otherwise known as\n",
        "[PEP-8](https://www.python.org/dev/peps/pep-0008/), is the style guide\n",
        "for how to format Python code. You are welcome to write Python code any\n",
        "way you want, as long as it has valid syntax. However, using a\n",
        "consistent style makes your code more approachable and easier to read.\n",
        "Sharing a common style with other Python programmers in the larger\n",
        "community facilitates collaboration on projects. But even if you are the\n",
        "only one who will ever read your code, following the style guide will\n",
        "make it easier for you to change things later, and can help you avoid\n",
        "many common errors.\n",
        "\n",
        "PEP-8 provides a wealth of details about how to write clear Python code.\n",
        "It continues to be updated as the Python language evolves. It’s worth\n",
        "reading the [whole guide\n",
        "online](https://www.python.org/dev/peps/pep-0008/). Here are a few rules\n",
        "you should be sure to follow.\n",
        "\n",
        "#### Whitespace\n",
        "\n",
        "-   Use spaces instead of tabs for indentation.\n",
        "-   Use four spaces for each level of syntactically significant\n",
        "    indenting.\n",
        "-   Lines should be 79 characters in length or less.\n",
        "-   Continuations of long expressions onto additional lines should be\n",
        "    indented by four extra spaces from their normal indentation level.\n",
        "-   In a file, functions and classes should be separated by two blank\n",
        "    lines.\n",
        "-   In a class, methods should be separated by one blank line.\n",
        "-   In a dictionary, put no whitespace between each key and colon, and\n",
        "    put a single space before the corresponding value if it fits on the\n",
        "    same line.\n",
        "-   Put one—and only one—space before and after the `=` operator in a\n",
        "    variable assignment.\n",
        "-   For type annotations, ensure that there is no separation between the\n",
        "    variable name and the colon, and use a space before the type\n",
        "    information.\n",
        "\n",
        "#### Naming\n",
        "\n",
        "PEP 8 suggests unique styles of naming for different parts in the\n",
        "language. These conventions make it easy to distinguish which type\n",
        "corresponds to each name when reading code. Follow these guidelines\n",
        "related to naming:\n",
        "\n",
        "-   Functions, variables, and attributes should be in\n",
        "    `lowercase_underscore` format.\n",
        "-   Protected instance attributes should be in `_leading_underscore`\n",
        "    format.\n",
        "-   Private instance attributes should be in\n",
        "    `__double_leading_underscore` format.\n",
        "-   Classes (including exceptions) should be in `CapitalizedWord`\n",
        "    format.\n",
        "-   Module-level constants should be in `ALL_CAPS` format.\n",
        "-   Instance methods in classes should use `self`, which refers to the\n",
        "    object, as the name of the first parameter.\n",
        "-   Class methods should use `cls`, which refers to the class, as the\n",
        "    name of the first parameter.\n",
        "\n",
        "#### Expressions and Statements\n",
        "\n",
        "The Zen of Python states: “There should be one—and preferably only\n",
        "one—obvious way to do it.” PEP 8 attempts to codify this style in its\n",
        "guidance for expressions and statements:\n",
        "\n",
        "-   Use inline negation (`if a is not b`) instead of negation of\n",
        "    positive expressions (`if not a is b`).\n",
        "-   Don’t check for empty containers or sequences (like `[]` or `''`) by\n",
        "    comparing the length to zero (if `len(somelist) == 0`). Use\n",
        "    `if not somelist` and assume that empty values will implicitly\n",
        "    evaluate to `False`.\n",
        "-   The same thing goes for non-empty containers or sequences (like\n",
        "    `[1]` or `'hi'`). The statement `if somelist` is implicitly `True`\n",
        "    for non-empty values.\n",
        "-   Avoid single-line if statements, `for` and `while` loops, and except\n",
        "    compound statements. Spread these over multiple lines for clarity.\n",
        "-   If you can’t fit an expression on one line, surround it with\n",
        "    parentheses and add line breaks and indentation to make it easier to\n",
        "    read.\n",
        "-   Prefer surrounding multiline expressions with parentheses over using\n",
        "    the `\\` line continuation character.\n",
        "\n",
        "#### Imports\n",
        "\n",
        "PEP 8 suggests some guidelines for how to import modules and use them in\n",
        "your code:\n",
        "\n",
        "-   Always put import statements (including from `x import y`) at the\n",
        "    top of a file.\n",
        "-   Always use absolute names for modules when importing them, not names\n",
        "    relative to the current module’s own path. For example, to import\n",
        "    the foo module from within the bar package, you should use from bar\n",
        "    import foo, not just import foo.\n",
        "-   If you must do relative imports, use the explicit syntax\n",
        "    `from . import foo`.\n",
        "-   Imports should be in sections in the following order:\n",
        "    -   standard library modules\n",
        "    -   third-party modules\n",
        "    -   your own modules.\n",
        "\n",
        "    Each subsection should have imports in alphabetical order.\n",
        "\n",
        "#### Use code formatters\n",
        "\n",
        "It is recommended to use a code formatter like\n",
        "[pylint](https://www.pylint.org) or\n",
        "[Black](https://pypi.org/project/black/) to handle these conventions\n",
        "automatically. There is also [Jupyter\n",
        "Black](https://github.com/drillan/jupyter-black) for doing this in\n",
        "notebooks.\n",
        "\n",
        "### #2. Prefer interpolated f-strings over C-style formatting (EP #4)\n",
        "\n",
        "Before f-strings were introduced in Python 3.6, you had to do this to\n",
        "format your strings:"
      ],
      "id": "3b2da536-5d49-421a-9f07-0eb8b5a7c113"
    },
    {
      "cell_type": "code",
      "execution_count": 1,
      "metadata": {
        "outputId": "aa33f6e9-4ac7-4aef-bbb2-ee92091e3888",
        "slideshow": {
          "slide_type": "fragment"
        }
      },
      "outputs": [
        {
          "output_type": "stream",
          "name": "stdout",
          "text": [
            "Hello, Eric Idle. You are 74. You are a comedian. You were a member of Monty Python."
          ]
        }
      ],
      "source": [
        "first_name = \"Eric\"\n",
        "last_name = \"Idle\"\n",
        "age = 74\n",
        "profession = \"comedian\"\n",
        "affiliation = \"Monty Python\"\n",
        "print(\n",
        "    \"Hello, %s %s. You are %s. You are a %s. You were a member of %s.\"\n",
        "    % (first_name, last_name, age, profession, affiliation)\n",
        ")"
      ],
      "id": "2e07ef38-87cc-4dcb-b07c-bd39a2ab4597"
    },
    {
      "cell_type": "markdown",
      "metadata": {},
      "source": [
        "Although the `str.format()` syntax is definitely better, it is still\n",
        "verbose:"
      ],
      "id": "2feb681f-1ac0-497a-bf61-0a680520b58b"
    },
    {
      "cell_type": "code",
      "execution_count": 2,
      "metadata": {
        "outputId": "28c035bc-bfd0-429e-d6b3-2190eb08aab9",
        "slideshow": {
          "slide_type": "fragment"
        }
      },
      "outputs": [
        {
          "output_type": "stream",
          "name": "stdout",
          "text": [
            "Hello Eric Idle, You are a 74. You are acomedian. You were a member of Monty Python"
          ]
        }
      ],
      "source": [
        "print(\n",
        "    \"Hello {} {}, You are a {}. You are a{}. You were a member of {}\".format(\n",
        "        first_name, last_name, age, profession, affiliation\n",
        "    )\n",
        ")"
      ],
      "id": "fffa3a17-7dd1-4878-9a14-8611ef4f242f"
    },
    {
      "cell_type": "markdown",
      "metadata": {},
      "source": [
        "With f-strings this becomes a lot more readable."
      ],
      "id": "084e93eb-91af-4b6b-9aab-19c3532f8b7f"
    },
    {
      "cell_type": "code",
      "execution_count": 3,
      "metadata": {
        "outputId": "b342d1db-fb52-45b2-a6ab-b1bf2411c71c",
        "slideshow": {
          "slide_type": "fragment"
        }
      },
      "outputs": [
        {
          "output_type": "stream",
          "name": "stdout",
          "text": [
            "Hello Eric Idle. You are 74. You are a comedian. You were a member of Monty Python"
          ]
        }
      ],
      "source": [
        "print(\n",
        "    f\"Hello {first_name} {last_name}. You are {age}. You are a {profession}. You were a member of {affiliation}\"\n",
        ")"
      ],
      "id": "58bc66e2-a83d-4cb6-ada0-3e0f9ad01fa8"
    },
    {
      "cell_type": "markdown",
      "metadata": {},
      "source": [
        "You can read more about using f-strings in this [Real Python\n",
        "tutorial](https://realpython.com/python-f-strings/).\n",
        "\n",
        "### #3. Write helper functions instead of complex expressions (EP #5)\n",
        "\n",
        "Python’s pithy syntax makes it easy to write single-line expressions\n",
        "that implement a lot of logic. For example, say that I want to decode\n",
        "the query string from a URL. Here, each query string parameter\n",
        "represents an integer value:"
      ],
      "id": "288ae8e2-cd64-4024-a89a-e605846f00af"
    },
    {
      "cell_type": "code",
      "execution_count": 4,
      "metadata": {
        "outputId": "58fc8c97-f436-4af1-9d8d-b98a5c278e55",
        "slideshow": {
          "slide_type": "fragment"
        }
      },
      "outputs": [
        {
          "output_type": "stream",
          "name": "stdout",
          "text": [
            "{'red': ['5'], 'blue': ['0'], 'green': ['']}"
          ]
        }
      ],
      "source": [
        "from urllib.parse import parse_qs\n",
        "\n",
        "my_values = parse_qs(\"red=5&blue=0&green=\", keep_blank_values=True)\n",
        "print(repr(my_values))"
      ],
      "id": "d5fa8431-5461-45bd-87cd-c3ee809a4f1e"
    },
    {
      "cell_type": "markdown",
      "metadata": {},
      "source": [
        "Some query string parameters may have multiple values, some may have\n",
        "single values, some may be present but have blank values, and some may\n",
        "be missing entirely. Using the `get` (more on that in [item\n",
        "11](#item11)) method on the result dictionary will return different\n",
        "values in each circumstance:"
      ],
      "id": "ae229c96-e460-46de-9844-f97ca036690b"
    },
    {
      "cell_type": "code",
      "execution_count": 5,
      "metadata": {
        "outputId": "07c1cf60-c8a0-4370-e822-34f9cca66b1a",
        "slideshow": {
          "slide_type": "fragment"
        }
      },
      "outputs": [
        {
          "output_type": "stream",
          "name": "stdout",
          "text": [
            "Red:      ['5']\n",
            "Green:    ['']\n",
            "Opacity:  None"
          ]
        }
      ],
      "source": [
        "print(\"Red:     \", my_values.get(\"red\"))\n",
        "print(\"Green:   \", my_values.get(\"green\"))\n",
        "print(\"Opacity: \", my_values.get(\"opacity\"))"
      ],
      "id": "305c0197-67a8-4fca-82e1-46dcc31989fa"
    },
    {
      "cell_type": "markdown",
      "metadata": {},
      "source": [
        "It’d be nice if a default value of `0` were assigned when a parameter\n",
        "isn’t supplied or is blank. I might choose to do this with Boolean\n",
        "expressions because it feels like this logic doesn’t merit a whole if\n",
        "statement or helper function quite yet.\n",
        "\n",
        "Python’s syntax makes this choice all too easy. The trick here is that\n",
        "the empty string, the empty list, and zero all evaluate to `False`\n",
        "implicitly. Thus, the expressions below will evaluate to the\n",
        "subexpression after the or operator when the first subexpression is\n",
        "False:"
      ],
      "id": "30a4a2c5-1c3c-4e7a-9cbb-e75c4e74f21a"
    },
    {
      "cell_type": "code",
      "execution_count": 6,
      "metadata": {
        "outputId": "3d5a89f7-4010-4b22-b8b0-85ad7e7fa77c",
        "slideshow": {
          "slide_type": "fragment"
        }
      },
      "outputs": [
        {
          "output_type": "stream",
          "name": "stdout",
          "text": [
            "Red:     '5'\n",
            "Green:   0\n",
            "Opacity: 0"
          ]
        }
      ],
      "source": [
        "red = my_values.get(\"red\", [\"\"])[0] or 0\n",
        "green = my_values.get(\"green\", [\"\"])[0] or 0\n",
        "opacity = my_values.get(\"opacity\", [\"\"])[0] or 0\n",
        "print(f\"Red:     {red!r}\")\n",
        "print(f\"Green:   {green!r}\")\n",
        "print(f\"Opacity: {opacity!r}\")"
      ],
      "id": "a719bd58-07ca-4461-b5e0-b80ffcf98614"
    },
    {
      "cell_type": "markdown",
      "metadata": {},
      "source": [
        "The `red` case works because the key is present in the my_values\n",
        "dictionary. The value is a list with one member: the string `'5'`. This\n",
        "string implicitly evaluates to `True`, so red is assigned to the first\n",
        "part of the or expression.\n",
        "\n",
        "The `green` case works because the value in the `my_values` dictionary\n",
        "is a list with one member: an empty string. The empty string implicitly\n",
        "evaluates to `False`, causing the or expression to evaluate to `0`.\n",
        "\n",
        "The `opacity` case works because the value in the `my_values` dictionary\n",
        "is missing altogether. The behavior of the get method is to return its\n",
        "second argument if the key doesn’t exist in the dictionary (see [item\n",
        "11: “Prefer `get` over `in` and `KeyError` to handle missing dictionary\n",
        "keys”](#item11)). The default value in this case is a list with one\n",
        "member: an empty string. When `opacity` isn’t found in the dictionary,\n",
        "this code does exactly the same thing as the `green` case.\n",
        "\n",
        "However, this expression is difficult to read, and it still doesn’t do\n",
        "everything I need. I’d also want to ensure that all the parameter values\n",
        "are converted to integers so I can immediately use them in mathematical\n",
        "expressions. To do that, I’d wrap each expression with the int built-in\n",
        "function to parse the string as an integer:"
      ],
      "id": "504a4915-a998-4c75-9d05-95a39d3c1661"
    },
    {
      "cell_type": "code",
      "execution_count": 7,
      "metadata": {
        "outputId": "470f246e-d124-46c7-de92-ad693d31ebeb",
        "slideshow": {
          "slide_type": "subslide"
        }
      },
      "outputs": [
        {
          "output_type": "stream",
          "name": "stdout",
          "text": [
            "Red:     5\n",
            "Green:   0\n",
            "Opacity: 0"
          ]
        }
      ],
      "source": [
        "red = int(my_values.get(\"red\", [\"\"])[0] or 0)\n",
        "green = int(my_values.get(\"green\", [\"\"])[0] or 0)\n",
        "opacity = int(my_values.get(\"opacity\", [\"\"])[0] or 0)\n",
        "print(f\"Red:     {red}\")\n",
        "print(f\"Green:   {green}\")\n",
        "print(f\"Opacity: {opacity}\")"
      ],
      "id": "33f976cc-3c43-4ac1-bff8-81ee41654a40"
    },
    {
      "cell_type": "markdown",
      "metadata": {},
      "source": [
        "You see this get unwieldly quite quickly. Furthermore, if you need to\n",
        "reuse this logic repeatedly - even just to or three times, as in this\n",
        "example, - then writing a helper function is the way to go:"
      ],
      "id": "4b7d0f67-671c-4b4e-bc64-036e253a9b19"
    },
    {
      "cell_type": "code",
      "execution_count": 8,
      "metadata": {
        "outputId": "5108b70f-db8a-4002-bf9b-30d75f3398e6",
        "slideshow": {
          "slide_type": "fragment"
        }
      },
      "outputs": [
        {
          "output_type": "stream",
          "name": "stdout",
          "text": [
            "Green:   0"
          ]
        }
      ],
      "source": [
        "def get_first_int(values, key, default=0):\n",
        "    found = values.get(key, [\"\"])\n",
        "    if found[0]:\n",
        "        return int(found[0])\n",
        "    return default\n",
        "\n",
        "\n",
        "green = get_first_int(my_values, \"green\")\n",
        "print(f\"Green:   {green!r}\")"
      ],
      "id": "21d45890-e622-44fa-84ec-bb652ff20083"
    },
    {
      "cell_type": "markdown",
      "metadata": {},
      "source": [
        "As soon as expressions get complicated, it’s time to consider splitting\n",
        "them into smaller pieces and moving logic into helper functions. What\n",
        "you gain in readability always outweighs what brevity may have afforded\n",
        "you. Avoid letting Python’s pithy syntax for complex expressions from\n",
        "getting you into a mess like this. Follow the **DRY** principle: *Don’t\n",
        "repeat yourself*.\n",
        "\n",
        "### #4. Prefer multiple assignment unpacking over indexing (EP #6)\n",
        "\n",
        "Python also has syntax for unpacking, which allows for assigning\n",
        "multiple values in a single statement. The patterns that you specify in\n",
        "unpacking assignments look a lot like trying to mutate tuples—which\n",
        "isn’t allowed—but they actually work quite differently. For example, if\n",
        "you know that a tuple is a pair, instead of using indexes to access its\n",
        "values, you can assign it to a tuple of two variable names:"
      ],
      "id": "1dc45081-c9cb-4242-8fe3-141e634eb506"
    },
    {
      "cell_type": "code",
      "execution_count": 9,
      "metadata": {
        "outputId": "1cd5c461-6ffa-4a1e-d7ee-5395cc5be913",
        "slideshow": {
          "slide_type": "fragment"
        }
      },
      "outputs": [
        {
          "output_type": "stream",
          "name": "stdout",
          "text": [
            "Peanut butter and Jelly"
          ]
        }
      ],
      "source": [
        "item = (\"Peanut butter\", \"Jelly\")\n",
        "first, second = item  # Unpacking\n",
        "print(first, \"and\", second)"
      ],
      "id": "ade9cfbb-0c96-44bf-92a0-436dc4421f6e"
    },
    {
      "cell_type": "markdown",
      "metadata": {},
      "source": [
        "Unpacking has less visual noise than accessing the tuple’s indexes, and\n",
        "it often requires fewer lines. The same pattern matching syntax of\n",
        "unpacking works when assigning to lists, sequences, and multiple levels\n",
        "of arbitrary iterables within iterables. Newcomers to Python may be\n",
        "surprised to learn that unpacking can even be used to swap values in\n",
        "place without the need to create temporary variables. Here, I use\n",
        "typical syntax with indexes to swap the values between two positions in\n",
        "a list as part of an ascending order sorting algorithm (using [bubble\n",
        "sort](https://en.wikipedia.org/wiki/Bubble_sort)):"
      ],
      "id": "a073dad7-12bc-4944-ac35-4d301a048dce"
    },
    {
      "cell_type": "code",
      "execution_count": 10,
      "metadata": {
        "outputId": "21952c23-2869-45ed-92e9-6f5540e2a32e",
        "slideshow": {
          "slide_type": "fragment"
        }
      },
      "outputs": [
        {
          "output_type": "stream",
          "name": "stdout",
          "text": [
            "['arugula', 'bacon', 'carrots', 'pretzels']"
          ]
        }
      ],
      "source": [
        "def bubble_sort(a):\n",
        "    for _ in range(len(a)):\n",
        "        for i in range(1, len(a)):\n",
        "            if a[i] < a[i - 1]:\n",
        "                temp = a[i]\n",
        "                a[i] = a[i - 1]\n",
        "                a[i - 1] = temp\n",
        "\n",
        "\n",
        "names = [\"pretzels\", \"carrots\", \"arugula\", \"bacon\"]\n",
        "bubble_sort(names)\n",
        "print(names)"
      ],
      "id": "485751a0-9177-4ad9-b674-870d10efa33e"
    },
    {
      "cell_type": "markdown",
      "metadata": {},
      "source": [
        "However, with unpacking syntax, it’s possible to swap indexes in a\n",
        "single line:"
      ],
      "id": "b54ac3e9-8d9a-41bb-ac8e-79f853ba0c3f"
    },
    {
      "cell_type": "code",
      "execution_count": 11,
      "metadata": {
        "outputId": "583189ad-f143-4503-b1e6-5ed617cee906",
        "slideshow": {
          "slide_type": "fragment"
        }
      },
      "outputs": [
        {
          "output_type": "stream",
          "name": "stdout",
          "text": [
            "['arugula', 'bacon', 'carrots', 'pretzels']"
          ]
        }
      ],
      "source": [
        "def bubble_sort(a):\n",
        "    for _ in range(len(a)):\n",
        "        for i in range(1, len(a)):\n",
        "            if a[i] < a[i - 1]:\n",
        "                a[i - 1], a[i] = a[i], a[i - 1]  # Swap\n",
        "\n",
        "\n",
        "names = [\"pretzels\", \"carrots\", \"arugula\", \"bacon\"]\n",
        "bubble_sort(names)\n",
        "print(names)"
      ],
      "id": "ebb408ef-f6e5-42f3-8021-abb9b0df13b7"
    },
    {
      "cell_type": "markdown",
      "metadata": {},
      "source": [
        "The way this swap works is that the right side of the assignment\n",
        "(`a[i], a[i-1]`) is evaluated first, and its values are put into a new\n",
        "temporary, unnamed tuple (such as `('carrots', 'pretzels')` on the first\n",
        "iteration of the loops). Then, the unpacking pattern from the left side\n",
        "of the assignment (`a[i-1], a[i]`) is used to receive that tuple value\n",
        "and assign it to the variable names `a[i-1]` and `a[i]`, respectively.\n",
        "This replaces `'pretzels'` with `'carrots'` at index `0` and `'carrots'`\n",
        "with `'pretzels'` at index 1. Finally, the temporary unnamed tuple\n",
        "silently goes away.\n",
        "\n",
        "Another valuable application of unpacking is in the target list of for\n",
        "loops and similar constructs, such as comprehensions and generator\n",
        "expressions (see [item 13: “Use comprehensions instead of `map` and\n",
        "`filter`”](#item13) for those). As an example for contrast, here I\n",
        "iterate over a list of snacks without using unpacking:"
      ],
      "id": "5a1b459d-2ac9-4c45-bad7-aaa8b13b1691"
    },
    {
      "cell_type": "code",
      "execution_count": 12,
      "metadata": {
        "outputId": "98e21ec0-4131-44f6-f5c5-f0347e54fc91",
        "slideshow": {
          "slide_type": "subslide"
        }
      },
      "outputs": [
        {
          "output_type": "stream",
          "name": "stdout",
          "text": [
            "#1: bacon has 350 calories\n",
            "#2: donut has 240 calories\n",
            "#3: muffin has 190 calories"
          ]
        }
      ],
      "source": [
        "snacks = [(\"bacon\", 350), (\"donut\", 240), (\"muffin\", 190)]\n",
        "for i in range(len(snacks)):\n",
        "    item = snacks[i]\n",
        "    name = item[0]\n",
        "    calories = item[1]\n",
        "    print(f\"#{i+1}: {name} has {calories} calories\")"
      ],
      "id": "8becdfb0-3629-4a3d-a524-8a523b39dede"
    },
    {
      "cell_type": "markdown",
      "metadata": {},
      "source": [
        "This works, but it’s noisy. There are a lot of extra characters required\n",
        "in order to index into the various levels of the snacks structure. Here,\n",
        "I achieve the same output by using unpacking along with the enumerate\n",
        "built-in function (see [item 5: “Prefer enumerate Over range”](#item5)):"
      ],
      "id": "f342d5b2-3c99-4a31-a094-b6d6c1d97e7c"
    },
    {
      "cell_type": "code",
      "execution_count": 13,
      "metadata": {
        "outputId": "f9eaf2f8-7324-464a-a0b3-c3b38363b4e0",
        "slideshow": {
          "slide_type": "fragment"
        }
      },
      "outputs": [
        {
          "output_type": "stream",
          "name": "stdout",
          "text": [
            "#1: bacon has 350 calories\n",
            "#2: donut has 240 calories\n",
            "#3: muffin has 190 calories"
          ]
        }
      ],
      "source": [
        "for rank, (name, calories) in enumerate(snacks, 1):\n",
        "    print(f\"#{rank}: {name} has {calories} calories\")"
      ],
      "id": "f86011c8-7e85-4824-a4d5-14222beabeb7"
    },
    {
      "cell_type": "markdown",
      "metadata": {},
      "source": [
        "Using unpacking wisely will enable you to avoid indexing when possible,\n",
        "resulting in clearer and more Pythonic code. So remember:\n",
        "\n",
        "-   Python has special syntax called unpacking for assigning multiple\n",
        "    values in a single statement.\n",
        "-   Unpacking is generalized in Python and can be applied to any\n",
        "    iterable, including many levels of iterables within iterables.\n",
        "-   Reduce visual noise and increase code clarity by using unpacking to\n",
        "    avoid explicitly indexing into sequences.\n",
        "\n",
        "<a id='item5'></a> \\### #5. Prefer `enumerate` over `range` (EP #7)\n",
        "\n",
        "When you have a data structure to iterate over, like a list of strings,\n",
        "you can loop directly over the sequence:"
      ],
      "id": "869c5b2d-4e36-47c0-be1e-6b0687626190"
    },
    {
      "cell_type": "code",
      "execution_count": 14,
      "metadata": {
        "outputId": "87f922a0-8b8f-49eb-e7f2-fcad51dcba94",
        "slideshow": {
          "slide_type": "fragment"
        }
      },
      "outputs": [
        {
          "output_type": "stream",
          "name": "stdout",
          "text": [
            "vanilla is delicious\n",
            "chocolate is delicious\n",
            "pecan is delicious\n",
            "strawberry is delicious"
          ]
        }
      ],
      "source": [
        "flavor_list = [\"vanilla\", \"chocolate\", \"pecan\", \"strawberry\"]\n",
        "for flavor in flavor_list:\n",
        "    print(f\"{flavor} is delicious\")"
      ],
      "id": "700a875e-3910-4066-9201-64ad5aaa40db"
    },
    {
      "cell_type": "markdown",
      "metadata": {},
      "source": [
        "Often, you’ll want to iterate over a list and also know the index of the\n",
        "current item in the list. For example, say that I want to print the\n",
        "ranking of my favorite ice cream flavors. One way to do it is by using\n",
        "range:"
      ],
      "id": "b2f5b643-472a-4a2f-b145-137f1e0d0a3f"
    },
    {
      "cell_type": "code",
      "execution_count": 15,
      "metadata": {
        "outputId": "110344ad-795e-44e6-ad8a-6709fcc92851",
        "slideshow": {
          "slide_type": "fragment"
        }
      },
      "outputs": [
        {
          "output_type": "stream",
          "name": "stdout",
          "text": [
            "1: vanilla\n",
            "2: chocolate\n",
            "3: pecan\n",
            "4: strawberry"
          ]
        }
      ],
      "source": [
        "for i in range(len(flavor_list)):\n",
        "    flavor = flavor_list[i]\n",
        "    print(f\"{i + 1}: {flavor}\")"
      ],
      "id": "f607ed7e-70b2-47a5-ad57-0c3bc47e741f"
    },
    {
      "cell_type": "markdown",
      "metadata": {},
      "source": [
        "This looks clumsy compared with the other example of iterating over\n",
        "`flavor_list`. I have to get the length of the list. I have to index\n",
        "into the array. The multiple steps make it harder to read.\n",
        "\n",
        "Python provides the `enumerate` built-in function to address this\n",
        "situation. `enumerate` wraps any iterator with a lazy generator (read\n",
        "[more on generators in this Real Python\n",
        "article](https://realpython.com/introduction-to-python-generators/)).\n",
        "`enumerate` yields pairs of the loop index and the next value from the\n",
        "given iterator. Here, I manually advance the returned iterator with the\n",
        "next built-in function to demonstrate what it does:"
      ],
      "id": "45de3a48-c152-4df0-8d4c-2a44b4e6c49f"
    },
    {
      "cell_type": "code",
      "execution_count": 16,
      "metadata": {
        "outputId": "0c966181-769c-4056-e1c1-ae77e648bc5b",
        "slideshow": {
          "slide_type": "fragment"
        }
      },
      "outputs": [
        {
          "output_type": "stream",
          "name": "stdout",
          "text": [
            "1: vanilla\n",
            "2: chocolate\n",
            "3: pecan\n",
            "4: strawberry"
          ]
        }
      ],
      "source": [
        "for i, flavor in enumerate(flavor_list):\n",
        "    print(f\"{i + 1}: {flavor}\")"
      ],
      "id": "5f0511d7-89c9-4a7d-ad3e-b8ab28f8ccc0"
    },
    {
      "cell_type": "markdown",
      "metadata": {},
      "source": [
        "I can make this even shorter by specifying the number from which\n",
        "`enumerate` should begin counting (`1` in this case) as the second\n",
        "parameter:"
      ],
      "id": "827ae99a-d554-4c4a-a43a-76de5d446d18"
    },
    {
      "cell_type": "code",
      "execution_count": 17,
      "metadata": {
        "outputId": "79e7d4c7-bd07-4d9f-93f0-102d8d909b03",
        "slideshow": {
          "slide_type": "fragment"
        }
      },
      "outputs": [
        {
          "output_type": "stream",
          "name": "stdout",
          "text": [
            "1: vanilla\n",
            "2: chocolate\n",
            "3: pecan\n",
            "4: strawberry"
          ]
        }
      ],
      "source": [
        "for i, flavor in enumerate(flavor_list, 1):\n",
        "    print(f\"{i}: {flavor}\")"
      ],
      "id": "55187f94-4b1d-4082-be20-22c84343c790"
    },
    {
      "cell_type": "markdown",
      "metadata": {},
      "source": [
        "### #6. Use zip to process iterators in parallel (EP #8)\n",
        "\n",
        "Often in Python you find yourself with many lists of related objects.\n",
        "List comprehensions make it easy to take a source list and get a derived\n",
        "list by applying an expression (see [item 13: “Use comprehensions\n",
        "instead of `map` and `filter`”](#item13)):"
      ],
      "id": "e4e9f1eb-be24-4352-a0ee-3a9fd6d393c6"
    },
    {
      "cell_type": "code",
      "execution_count": 18,
      "metadata": {
        "outputId": "476071bd-9ae9-4ab8-ae26-dca64383be81",
        "slideshow": {
          "slide_type": "fragment"
        }
      },
      "outputs": [
        {
          "output_type": "stream",
          "name": "stdout",
          "text": [
            "[7, 4, 5]"
          ]
        }
      ],
      "source": [
        "names = [\"Cecilia\", \"Lise\", \"Marie\"]\n",
        "counts = [len(n) for n in names]\n",
        "print(counts)"
      ],
      "id": "e7def3a0-f06c-4470-84d7-a921f18ec3d1"
    },
    {
      "cell_type": "markdown",
      "metadata": {},
      "source": [
        "The items in the derived list are related to the items in the source\n",
        "list by their indexes. To iterate over both lists in parallel, I can\n",
        "iterate over the length of the `names` source list:"
      ],
      "id": "6d39fdbb-7a59-44e6-9746-13eab417ff00"
    },
    {
      "cell_type": "code",
      "execution_count": 19,
      "metadata": {
        "outputId": "3bc90fc6-7e85-4bb3-9f77-73f4210d47de",
        "slideshow": {
          "slide_type": "fragment"
        }
      },
      "outputs": [
        {
          "output_type": "stream",
          "name": "stdout",
          "text": [
            "Cecilia"
          ]
        }
      ],
      "source": [
        "longest_name = None\n",
        "max_count = 0\n",
        "\n",
        "for i in range(len(names)):\n",
        "    count = counts[i]\n",
        "    if count > max_count:\n",
        "        longest_name = names[i]\n",
        "        max_count = count\n",
        "\n",
        "print(longest_name)"
      ],
      "id": "197528a8-8b2b-47d2-ae4e-b53d2f0e4acb"
    },
    {
      "cell_type": "markdown",
      "metadata": {},
      "source": [
        "The problem is that this whole loop statement is visually noisy. The\n",
        "indexes into `names` and `counts` make the code hard to read. Indexing\n",
        "into the arrays by the loop index `i` happens twice. Using `enumerate`\n",
        "(see [item 5: “Prefer enumerate Over range”](#item5)) improves this\n",
        "slightly, but it’s still not ideal:"
      ],
      "id": "242e6272-20f0-4f1d-9453-b1ffd45f1965"
    },
    {
      "cell_type": "code",
      "execution_count": 20,
      "metadata": {
        "outputId": "8adb08a9-869f-4cf6-fd0d-553db9da1217",
        "slideshow": {
          "slide_type": "fragment"
        }
      },
      "outputs": [
        {
          "output_type": "stream",
          "name": "stdout",
          "text": [
            "Cecilia"
          ]
        }
      ],
      "source": [
        "longest_name = None\n",
        "max_count = 0\n",
        "for i, name in enumerate(names):\n",
        "    count = counts[i]\n",
        "    if count > max_count:\n",
        "        longest_name = name\n",
        "        max_count = count\n",
        "\n",
        "print(longest_name)"
      ],
      "id": "70040280-7e67-4992-9b86-a19c586c0f13"
    },
    {
      "cell_type": "markdown",
      "metadata": {},
      "source": [
        "To make this code clearer, Python provides the `zip` built-in function.\n",
        "`zip` wraps two or more iterators with a lazy generator. The `zip`\n",
        "generator yields tuples containing the next value from each iterator.\n",
        "These tuples can be unpacked directly within a for statement (see [item\n",
        "4: “Prefer multiple assignment unpacking over indexing”](#item4)). The\n",
        "resulting code is much cleaner than the code for indexing into multiple\n",
        "lists:"
      ],
      "id": "9d0f6e6d-fe1b-4693-b8c4-ee62a27576c3"
    },
    {
      "cell_type": "code",
      "execution_count": 21,
      "metadata": {
        "outputId": "82c9e870-65bb-4e8e-9b0e-dd129623277a",
        "slideshow": {
          "slide_type": "fragment"
        }
      },
      "outputs": [
        {
          "output_type": "stream",
          "name": "stdout",
          "text": [
            "Cecilia"
          ]
        }
      ],
      "source": [
        "longest_name = None\n",
        "max_count = 0\n",
        "for name, count in zip(names, counts):\n",
        "    if count > max_count:\n",
        "        longest_name = name\n",
        "        max_count = count\n",
        "\n",
        "print(longest_name)"
      ],
      "id": "234d27d3-8730-4095-8457-fab1bf638bc5"
    },
    {
      "cell_type": "markdown",
      "metadata": {},
      "source": [
        "`zip` consumes the iterators it wraps one item at a time, which means it\n",
        "can be used with infinitely long inputs without risk of a program using\n",
        "too much memory and crashing.\n",
        "\n",
        "However, beware of `zip`’s behavior when the input iterators are of\n",
        "different lengths. For example, say that I add another item to names\n",
        "above but forget to update counts. Running zip on the two input lists\n",
        "will have an unexpected result:"
      ],
      "id": "83583ad1-ce11-4426-95d3-7ebc6fe14c90"
    },
    {
      "cell_type": "code",
      "execution_count": 22,
      "metadata": {
        "outputId": "a6a618df-97b2-4916-fe31-1b0bec5c4d5f",
        "slideshow": {
          "slide_type": "fragment"
        }
      },
      "outputs": [
        {
          "output_type": "stream",
          "name": "stdout",
          "text": [
            "Cecilia\n",
            "Lise\n",
            "Marie"
          ]
        }
      ],
      "source": [
        "names.append(\"Rosalind\")\n",
        "for name, count in zip(names, counts):\n",
        "    print(name)"
      ],
      "id": "9aeb97c2-af3b-4460-9a20-929ec0879aa9"
    },
    {
      "cell_type": "markdown",
      "metadata": {},
      "source": [
        "The new item for `'Rosalind'` isn’t there. Why not? This is just how\n",
        "`zip` works. It keeps yielding tuples until any one of the wrapped\n",
        "iterators is exhausted. Its output is as long as its shortest input.\n",
        "This approach works fine when you know that the iterators are of the\n",
        "same length, which is often the case for derived lists created by list\n",
        "comprehensions. But in many other cases, the truncating behavior of\n",
        "`zip` is surprising and bad. If you don’t expect the lengths of the\n",
        "lists passed to zip to be equal, consider using the `zip_longest`\n",
        "function from the `itertools` built-in module instead:"
      ],
      "id": "e409e096-14d1-43dd-a9d1-7f9b389d0f73"
    },
    {
      "cell_type": "code",
      "execution_count": 23,
      "metadata": {
        "outputId": "29585d77-8417-4871-8c64-5b026dc1a3fb",
        "slideshow": {
          "slide_type": "fragment"
        }
      },
      "outputs": [
        {
          "output_type": "stream",
          "name": "stdout",
          "text": [
            "Cecilia: 7\n",
            "Lise: 4\n",
            "Marie: 5\n",
            "Rosalind: None"
          ]
        }
      ],
      "source": [
        "import itertools\n",
        "\n",
        "for name, count in itertools.zip_longest(names, counts):\n",
        "    print(f\"{name}: {count}\")"
      ],
      "id": "5479418a-65eb-4e05-94cf-fa5c520f136f"
    },
    {
      "cell_type": "markdown",
      "metadata": {},
      "source": [
        "`zip_longest` replaces missing values—the length of the string\n",
        "`'Rosalind'` in this case—with whatever fillvalue is passed to it, which\n",
        "defaults to `None`.\n",
        "\n",
        "Note that the `itertools` implements more iterator building block that\n",
        "come from functional programming. Read more in [this Real Python\n",
        "article](https://realpython.com/python-itertools/).\n",
        "\n",
        "## Lists, dictionairies and dataclasses\n",
        "\n",
        "### #7. Use `dataclass` if you need to create a data container\n",
        "\n",
        "The `dataclass` class was introduced in Python 3.7. Given our functional\n",
        "approach, you should first ask yourself whether you really need a new\n",
        "container object for your data. In the words of [Alan J.\n",
        "Perlis](https://en.wikipedia.org/wiki/Alan_Perlis):\n",
        "\n",
        "> It is better to have 100 functions operate on one data structure than\n",
        "> to have 10 functions operate on 10 data structures.\n",
        "\n",
        "If you have consciously decided you *do* want a new data object, then\n",
        "`dataclass` is your friend. It is created using the new `@dataclass`\n",
        "decorator as follows:"
      ],
      "id": "f1d867b7-6cb6-4d00-82ed-e4167ff5941f"
    },
    {
      "cell_type": "code",
      "execution_count": 24,
      "metadata": {
        "slideshow": {
          "slide_type": "fragment"
        }
      },
      "outputs": [],
      "source": [
        "from dataclasses import dataclass\n",
        "\n",
        "\n",
        "@dataclass\n",
        "class DataClassCard:\n",
        "    rank: str\n",
        "    suit: str"
      ],
      "id": "dd3bc5a3-c308-4607-977c-6219dcf0792f"
    },
    {
      "cell_type": "markdown",
      "metadata": {},
      "source": [
        "A `dataclass` comes with basic functionality already implemented. For\n",
        "instance, you can instantiate, print, and compare `dataclass` instances\n",
        "straight out of the box:"
      ],
      "id": "04247047-b627-4462-ba86-659fb53c1e4d"
    },
    {
      "cell_type": "code",
      "execution_count": 25,
      "metadata": {
        "outputId": "620df995-cf50-4275-a852-c9b916bc3d71",
        "slideshow": {
          "slide_type": "fragment"
        }
      },
      "outputs": [
        {
          "output_type": "stream",
          "name": "stdout",
          "text": [
            "Q"
          ]
        }
      ],
      "source": [
        "queen_of_hearts = DataClassCard(\"Q\", \"Hearts\")\n",
        "print(queen_of_hearts.rank)"
      ],
      "id": "b6950050-c6ea-4e26-b2d9-09f6b6821b8c"
    },
    {
      "cell_type": "code",
      "execution_count": 26,
      "metadata": {
        "outputId": "1b28179f-3d06-42b0-dc26-3ee8bc4887f8",
        "slideshow": {
          "slide_type": "fragment"
        }
      },
      "outputs": [
        {
          "output_type": "display_data",
          "metadata": {},
          "data": {
            "text/plain": [
              "DataClassCard(rank='Q', suit='Hearts')"
            ]
          }
        }
      ],
      "source": [
        "queen_of_hearts"
      ],
      "id": "b34a776b-fe62-4250-b25f-52283d072f6d"
    },
    {
      "cell_type": "code",
      "execution_count": 27,
      "metadata": {
        "outputId": "ad11f656-5e29-4d50-dcf5-76a69c1b41e8",
        "slideshow": {
          "slide_type": "fragment"
        }
      },
      "outputs": [
        {
          "output_type": "display_data",
          "metadata": {},
          "data": {
            "text/plain": [
              "True"
            ]
          }
        }
      ],
      "source": [
        "queen_of_hearts == DataClassCard(\"Q\", \"Hearts\")"
      ],
      "id": "ca781c3c-b4b0-4665-a157-976c1e3c07b3"
    },
    {
      "cell_type": "markdown",
      "metadata": {},
      "source": [
        "Read more on `dataclass` and how to use them in [this Real Python\n",
        "tutorial](https://realpython.com/python-data-classes/)\n",
        "\n",
        "### #8. Prefer catch-all unpacking over slicing (EP #13)\n",
        "\n",
        "One limitation of basic unpacking (see [item 4](#item4)) is that you\n",
        "must know the length of the sequences you’re unpacking in advance. For\n",
        "example, here I have a list of the ages of cars that are being traded in\n",
        "at a dealership. When I try to take the first two items of the list with\n",
        "basic unpacking, an exception is raised at runtime:"
      ],
      "id": "308a0d8f-427f-435c-b333-ae05f1ec1e3e"
    },
    {
      "cell_type": "code",
      "execution_count": 28,
      "metadata": {
        "outputId": "ec997301-9b38-45d2-c8c6-171a694b8b70",
        "slideshow": {
          "slide_type": "fragment"
        }
      },
      "outputs": [],
      "source": [
        "car_ages = [0, 9, 4, 8, 7, 20, 19, 1, 6, 15]\n",
        "car_ages_descending = sorted(car_ages, reverse=True)\n",
        "oldest, second_oldest = car_ages_descending"
      ],
      "id": "d7304af7-8df9-41cc-8799-19860ba7c04e"
    },
    {
      "cell_type": "markdown",
      "metadata": {},
      "source": [
        "Newcomers to Python often rely on indexing and slicing for this\n",
        "situation. For example, here I extract the oldest, second oldest, and\n",
        "other car ages from a list of at least two items:"
      ],
      "id": "bbb1efc3-61ec-4e1e-9a7d-b953e0525267"
    },
    {
      "cell_type": "code",
      "execution_count": 29,
      "metadata": {
        "outputId": "2b23e3ec-1f11-4d17-e584-3e5ecbe3d33c",
        "slideshow": {
          "slide_type": "fragment"
        }
      },
      "outputs": [
        {
          "output_type": "stream",
          "name": "stdout",
          "text": [
            "20 19 [15, 9, 8, 7, 6, 4, 1, 0]"
          ]
        }
      ],
      "source": [
        "oldest = car_ages_descending[0]\n",
        "second_oldest = car_ages_descending[1]\n",
        "others = car_ages_descending[2:]\n",
        "print(oldest, second_oldest, others)"
      ],
      "id": "b1dafa63-6e40-4343-a0d3-98f5fe448f27"
    },
    {
      "cell_type": "markdown",
      "metadata": {},
      "source": [
        "However, to unpack assignments that contain a starred expression, you\n",
        "must have at least one required part, or else you’ll get a\n",
        "`SyntaxError`. You can’t use a catch-all expression on its own:"
      ],
      "id": "91ea1005-6099-4821-85c4-b652414ab2da"
    },
    {
      "cell_type": "code",
      "execution_count": 30,
      "metadata": {
        "outputId": "10851b87-6769-46a4-a7c1-e23aae567d7f",
        "slideshow": {
          "slide_type": "fragment"
        }
      },
      "outputs": [],
      "source": [
        "*others = car_ages_descending"
      ],
      "id": "006e86ea-0939-487e-af68-f84dce584a91"
    },
    {
      "cell_type": "markdown",
      "metadata": {},
      "source": [
        "You also can’t use multiple catch-all expressions in a single-level\n",
        "unpacking pattern:"
      ],
      "id": "0b05023b-34d1-4bd8-9758-1751997966bb"
    },
    {
      "cell_type": "code",
      "execution_count": 31,
      "metadata": {
        "outputId": "190f1427-77b1-41fa-ac98-636a789ac4b7",
        "slideshow": {
          "slide_type": "fragment"
        }
      },
      "outputs": [],
      "source": [
        "first, *middle, *second_middle, last = [1, 2, 3, 4]"
      ],
      "id": "75c20c6b-b285-44c5-a851-5688c0f583de"
    },
    {
      "cell_type": "markdown",
      "metadata": {},
      "source": [
        "But it is possible to use multiple starred expressions in an unpacking\n",
        "assignment statement, as long as they’re catch-alls for different parts\n",
        "of the multilevel structure being unpacked. I don’t recommend doing the\n",
        "following (see [item 11: “Never unpack more than three variables when\n",
        "functions return multiple values”](#item11) for related guidance), but\n",
        "understanding it should help you develop an intuition for how starred\n",
        "expressions can be used in unpacking assignments:"
      ],
      "id": "213369b2-8fb9-40ee-933f-8ba6d135e89c"
    },
    {
      "cell_type": "code",
      "execution_count": 32,
      "metadata": {
        "outputId": "739c12ce-1115-41b4-a02b-dc05f010d406",
        "slideshow": {
          "slide_type": "fragment"
        }
      },
      "outputs": [
        {
          "output_type": "stream",
          "name": "stdout",
          "text": [
            "Best at Downtown is Silver Shadow, 2 others\n",
            "Best at Airport is Skyline, 3 others"
          ]
        }
      ],
      "source": [
        "car_inventory = {\n",
        "    \"Downtown\": (\"Silver Shadow\", \"Pinto\", \"DMC\"),\n",
        "    \"Airport\": (\"Skyline\", \"Viper\", \"Gremlin\", \"Nova\"),\n",
        "}\n",
        "\n",
        "((loc1, (best1, *rest1)), (loc2, (best2, *rest2))) = car_inventory.items()\n",
        "print(f\"Best at {loc1} is {best1}, {len(rest1)} others\")\n",
        "print(f\"Best at {loc2} is {best2}, {len(rest2)} others\")"
      ],
      "id": "175aca96-b58d-417c-86f2-8bce3560fffc"
    },
    {
      "cell_type": "markdown",
      "metadata": {},
      "source": [
        "Starred expressions become list instances in all cases. If there are no\n",
        "leftover items from the sequence being unpacked, the catch-all part will\n",
        "be an empty `list`. This is especially useful when you’re processing a\n",
        "sequence that you know in advance has at least $N$ elements:"
      ],
      "id": "4b41fdc2-54a9-4d8f-b086-1c0a1e715e3b"
    },
    {
      "cell_type": "code",
      "execution_count": 33,
      "metadata": {
        "outputId": "187ff261-4c11-43a8-c7d0-463b6659491d",
        "slideshow": {
          "slide_type": "fragment"
        }
      },
      "outputs": [
        {
          "output_type": "stream",
          "name": "stdout",
          "text": [
            "1 2 []"
          ]
        }
      ],
      "source": [
        "short_list = [1, 2]\n",
        "first, second, *rest = short_list\n",
        "print(first, second, rest)"
      ],
      "id": "057d71ab-7190-4879-abfc-2a1dbbb3841f"
    },
    {
      "cell_type": "markdown",
      "metadata": {},
      "source": [
        "But with the addition of starred expressions, the value of unpacking\n",
        "iterators becomes clear. For example, here I have a generator that\n",
        "yields the rows of a CSV file containing all car orders from the\n",
        "dealership this week:"
      ],
      "id": "517fab61-f6fe-4a48-aee6-5fad47b57eb3"
    },
    {
      "cell_type": "code",
      "execution_count": 34,
      "metadata": {
        "slideshow": {
          "slide_type": "fragment"
        }
      },
      "outputs": [],
      "source": [
        "def generate_csv():\n",
        "    yield (\"Date\", \"Make\", \"Model\", \"Year\", \"Price\")\n",
        "    for i in range(100):\n",
        "        yield (\"2019-03-25\", \"Honda\", \"Fit\", \"2010\", \"$3400\")\n",
        "        yield (\"2019-03-26\", \"Ford\", \"F150\", \"2008\", \"$2400\")"
      ],
      "id": "69b80d96-1fe8-488d-945f-e6fab3b53ed4"
    },
    {
      "cell_type": "markdown",
      "metadata": {},
      "source": [
        "Processing the results of this generator using indexes and slices is\n",
        "fine, but it requires multiple lines and is visually noisy:"
      ],
      "id": "b8896ff7-722a-4510-ae4c-80dd95459a4d"
    },
    {
      "cell_type": "code",
      "execution_count": 35,
      "metadata": {
        "outputId": "0ccdc356-df51-453f-f407-03fad0df4077",
        "slideshow": {
          "slide_type": "fragment"
        }
      },
      "outputs": [
        {
          "output_type": "stream",
          "name": "stdout",
          "text": [
            "CSV Header: ('Date', 'Make', 'Model', 'Year', 'Price')\n",
            "Row count:  200"
          ]
        }
      ],
      "source": [
        "all_csv_rows = list(generate_csv())\n",
        "header = all_csv_rows[0]\n",
        "rows = all_csv_rows[1:]\n",
        "print(\"CSV Header:\", header)\n",
        "print(\"Row count: \", len(rows))"
      ],
      "id": "008cf737-1dd0-42d6-9dae-85f96589f97d"
    },
    {
      "cell_type": "markdown",
      "metadata": {},
      "source": [
        "Unpacking with a starred expression makes it easy to process the first\n",
        "row—the header—separately from the rest of the iterator’s contents. This\n",
        "is much clearer:"
      ],
      "id": "c6f86049-d1a7-4d62-a7a4-6966db13ab5f"
    },
    {
      "cell_type": "code",
      "execution_count": 36,
      "metadata": {
        "outputId": "252b6824-03f8-4c76-ec31-e42781ee82ff",
        "slideshow": {
          "slide_type": "fragment"
        }
      },
      "outputs": [
        {
          "output_type": "stream",
          "name": "stdout",
          "text": [
            "CSV Header: ('Date', 'Make', 'Model', 'Year', 'Price')\n",
            "Row count:  200"
          ]
        }
      ],
      "source": [
        "it = generate_csv()\n",
        "header, *rows = it\n",
        "print(\"CSV Header:\", header)\n",
        "print(\"Row count: \", len(rows))"
      ],
      "id": "15a6bbd1-84ef-4010-9850-a4b4b72244d1"
    },
    {
      "cell_type": "markdown",
      "metadata": {},
      "source": [
        "Keep in mind, however, that because a starred expression is always\n",
        "turned into a list, unpacking an iterator also risks the potential of\n",
        "using up all of the memory on your computer and causing your program to\n",
        "crash. So you should only use catch-all unpacking on iterators when you\n",
        "have good reason to believe that the result data will all fit in memory.\n",
        "\n",
        "Finally, note that the unpacking operators `*` for `list`s and `**` for\n",
        "`dict`s is often used in functions. Read [this tutorial on Real Python\n",
        "that demystifies `*args` and\n",
        "`**kwargs`](https://realpython.com/python-kwargs-and-args/). Note that\n",
        "`args` and `kwargs` are just names that are used by convention to refer\n",
        "to positional arguments and keyword arguments, respectively. You could\n",
        "use any other name if you wanted to. The magic lies in the `*` and `**`\n",
        "unpacking operators, as is shown with this trick from Real Python’s\n",
        "homepage:"
      ],
      "id": "7cceed7b-67ad-43f0-bf20-f8c067d70066"
    },
    {
      "cell_type": "code",
      "execution_count": 37,
      "metadata": {
        "slideshow": {
          "slide_type": "fragment"
        }
      },
      "outputs": [],
      "source": [
        "x = {\"a\": 1, \"b\": 2}\n",
        "y = {\"c\": 3, \"d\": 4}\n",
        "z = {**x, **y}"
      ],
      "id": "7f2d137b-c62f-4522-a598-b9e9680cb57d"
    },
    {
      "cell_type": "markdown",
      "metadata": {},
      "source": [
        "When unpacking `dict`s with overlapping keys, the last value is kept:"
      ],
      "id": "a232f285-986b-4f04-97ae-d6ca54635ea8"
    },
    {
      "cell_type": "code",
      "execution_count": 38,
      "metadata": {
        "outputId": "134ac7e2-200e-4ff5-fc52-7fbd83b3f2b7",
        "slideshow": {
          "slide_type": "fragment"
        }
      },
      "outputs": [
        {
          "output_type": "display_data",
          "metadata": {},
          "data": {
            "text/plain": [
              "{'a': 1, 'b': 3, 'c': 4}"
            ]
          }
        }
      ],
      "source": [
        "y = {\"b\": 3, \"c\": 4}\n",
        "{**x, **y}"
      ],
      "id": "d22ead34-0881-4f9f-8f38-b2ccf46b65e8"
    },
    {
      "cell_type": "markdown",
      "metadata": {},
      "source": [
        "Using `**kwargs` you can easily re-use parameters are the same for\n",
        "different calls to the same function:"
      ],
      "id": "05b70eeb-c347-4166-869d-2be7226ab07a"
    },
    {
      "cell_type": "code",
      "execution_count": 39,
      "metadata": {
        "outputId": "1c2cd5e0-9530-42c8-f145-c75c5a9a0b5e",
        "scrolled": true,
        "slideshow": {
          "slide_type": "fragment"
        }
      },
      "outputs": [],
      "source": [
        "import pandas as pd\n",
        "\n",
        "csv_kwargs = {\"sep\": \";\", \"encoding\": \"utf-8\"}\n",
        "ames = pd.read_csv(\n",
        "    \"https://github.com/eaisi/discover-projects/blob/main/ames-housing/AmesHousing.csv?raw=true\",\n",
        "    **csv_kwargs\n",
        ")\n",
        "pima = pd.read_csv(\n",
        "    \"https://github.com/eaisi/discover-projects/blob/main/pima-indians-diabetes/diabetes.csv?raw=true\",\n",
        "    **csv_kwargs\n",
        ")"
      ],
      "id": "dd3be312-a24a-456e-9af4-a41a8d81a907"
    },
    {
      "cell_type": "markdown",
      "metadata": {},
      "source": [
        "### #9. Sort by complex criteria using the `key` parameter (EP #14)\n",
        "\n",
        "The `list` built-in type provides a sort method for ordering the items\n",
        "in a `list` instance based on a variety of criteria. By default, sort\n",
        "will order a list’s contents by the natural ascending order of the\n",
        "items. For example, here I sort a list of integers from smallest to\n",
        "largest:"
      ],
      "id": "487ee2f2-643e-46f8-8ea8-03f808746b0f"
    },
    {
      "cell_type": "code",
      "execution_count": 40,
      "metadata": {
        "outputId": "dfdb44b6-2bcf-4ce7-9187-0d5a1c3b1011",
        "slideshow": {
          "slide_type": "fragment"
        }
      },
      "outputs": [
        {
          "output_type": "stream",
          "name": "stdout",
          "text": [
            "[11, 68, 70, 86, 93]"
          ]
        }
      ],
      "source": [
        "numbers = [93, 86, 11, 68, 70]\n",
        "numbers.sort()\n",
        "print(numbers)"
      ],
      "id": "eec82ae7-3005-4e6c-9158-fc2b2bc4cb91"
    },
    {
      "cell_type": "markdown",
      "metadata": {},
      "source": [
        "The sort method works for nearly all built-in types (strings, floats,\n",
        "etc.) that have a natural ordering to them. What does `sort` do with\n",
        "objects? Often there’s an attribute on the object that you’d like to use\n",
        "for sorting. To support this use case, the `sort` method accepts a key\n",
        "parameter that’s expected to be a function. The key function is passed a\n",
        "single argument, which is an item from the list that is being sorted.\n",
        "The return value of the key function should be a comparable value (i.e.,\n",
        "with a natural ordering) to use in place of an item for sorting\n",
        "purposes.\n",
        "\n",
        "For example, here I define a `dataclass` to represent various tools. To\n",
        "sort a the `list` of `Tool` object alphabetically by name, I use the\n",
        "lambda keyword to define a function for the key parameter:"
      ],
      "id": "16e43993-d9ae-444c-b04f-efbb3972685c"
    },
    {
      "cell_type": "code",
      "execution_count": 41,
      "metadata": {
        "slideshow": {
          "slide_type": "fragment"
        }
      },
      "outputs": [],
      "source": [
        "from dataclasses import dataclass\n",
        "\n",
        "\n",
        "@dataclass\n",
        "class Tool:\n",
        "    name: str\n",
        "    weight: float\n",
        "\n",
        "\n",
        "tools = [\n",
        "    Tool(\"level\", 3.5),\n",
        "    Tool(\"hammer\", 1.25),\n",
        "    Tool(\"screwdriver\", 0.5),\n",
        "    Tool(\"chisel\", 0.25),\n",
        "]"
      ],
      "id": "68e6a7df-7da3-48dc-a52f-1dd5894a10d7"
    },
    {
      "cell_type": "code",
      "execution_count": 42,
      "metadata": {
        "outputId": "cf1fcb39-dd93-4b4c-911c-b145b6127fde",
        "slideshow": {
          "slide_type": "fragment"
        }
      },
      "outputs": [
        {
          "output_type": "stream",
          "name": "stdout",
          "text": [
            "\n",
            "Unsorted:\n",
            " [Tool(name='level', weight=3.5), Tool(name='hammer', weight=1.25), Tool(name='screwdriver', weight=0.5), Tool(name='chisel', weight=0.25)]\n",
            "\n",
            "Sorted:\n",
            " [Tool(name='chisel', weight=0.25), Tool(name='hammer', weight=1.25), Tool(name='level', weight=3.5), Tool(name='screwdriver', weight=0.5)]"
          ]
        }
      ],
      "source": [
        "print(\"\\nUnsorted:\\n\", tools)\n",
        "tools.sort(key=lambda x: x.name)\n",
        "print(\"\\nSorted:\\n\", tools)"
      ],
      "id": "b80d13f3-925f-4928-a04f-109501929dff"
    },
    {
      "cell_type": "markdown",
      "metadata": {},
      "source": [
        "I can just as easily define another lambda function to sort by weight\n",
        "and pass it as the key parameter to the sort method:"
      ],
      "id": "522add7c-af89-45d3-bd13-52a1376f6485"
    },
    {
      "cell_type": "code",
      "execution_count": 43,
      "metadata": {
        "outputId": "e40ce7d0-6282-4695-e38e-66a915611b33",
        "slideshow": {
          "slide_type": "fragment"
        }
      },
      "outputs": [
        {
          "output_type": "stream",
          "name": "stdout",
          "text": [
            "\n",
            "By weight:\n",
            " [Tool(name='chisel', weight=0.25), Tool(name='screwdriver', weight=0.5), Tool(name='hammer', weight=1.25), Tool(name='level', weight=3.5)]"
          ]
        }
      ],
      "source": [
        "tools.sort(key=lambda x: x.weight)\n",
        "print(\"\\nBy weight:\\n\", tools)"
      ],
      "id": "a3285197-4aef-4e69-b0c4-8110288da8ba"
    },
    {
      "cell_type": "markdown",
      "metadata": {},
      "source": [
        "Within the lambda function passed as the key parameter you can access\n",
        "attributes of items as I’ve done here, index into items (for sequences,\n",
        "tuples, and dictionaries), or use any other valid expression.\n",
        "\n",
        "For basic types like strings, you may even want to use the key function\n",
        "to do transformations on the values before sorting. For example, here I\n",
        "apply the `lower` method to each item in a `list` of place names to\n",
        "ensure that they’re in alphabetical order, ignoring any capitalization\n",
        "(since in the natural lexical ordering of strings, capital letters come\n",
        "before lowercase letters):"
      ],
      "id": "b09d35d1-4c66-4876-8cb2-7def7a2d9094"
    },
    {
      "cell_type": "code",
      "execution_count": 44,
      "metadata": {
        "outputId": "d65faf29-7155-4aa5-91e8-9d6e34884868",
        "slideshow": {
          "slide_type": "fragment"
        }
      },
      "outputs": [
        {
          "output_type": "stream",
          "name": "stdout",
          "text": [
            "Case sensitive:  ['New York', 'Paris', 'home', 'work']\n",
            "Case insensitive: ['home', 'New York', 'Paris', 'work']"
          ]
        }
      ],
      "source": [
        "places = [\"home\", \"work\", \"New York\", \"Paris\"]\n",
        "places.sort()\n",
        "print(\"Case sensitive: \", places)\n",
        "places.sort(key=lambda x: x.lower())\n",
        "print(\"Case insensitive:\", places)"
      ],
      "id": "400b0639-6f31-4047-9e2f-d88ff8844a51"
    },
    {
      "cell_type": "markdown",
      "metadata": {},
      "source": [
        "Sometimes you may need to use multiple criteria for sorting. For\n",
        "example, say that I have a list of power tools and I want to sort them\n",
        "first by weight and then by name. How can I accomplish this?"
      ],
      "id": "dcb863bc-207a-4ab4-abe8-995bdbfe74a8"
    },
    {
      "cell_type": "code",
      "execution_count": 45,
      "metadata": {
        "slideshow": {
          "slide_type": "fragment"
        }
      },
      "outputs": [],
      "source": [
        "power_tools = [\n",
        "    Tool(\"drill\", 4),\n",
        "    Tool(\"circular saw\", 5),\n",
        "    Tool(\"jackhammer\", 40),\n",
        "    Tool(\"sander\", 4),\n",
        "]"
      ],
      "id": "064883e3-dcc1-48bf-8ec5-a07a539a09a4"
    },
    {
      "cell_type": "markdown",
      "metadata": {},
      "source": [
        "The simplest solution in Python is to use the `tuple` type. Tuples are\n",
        "immutable sequences of arbitrary Python values. Tuples are comparable by\n",
        "default and have a natural ordering, meaning that they implement all of\n",
        "the special methods, such as `__lt__`, that are required by the `sort`\n",
        "method. Tuples implement these special method comparators by iterating\n",
        "over each position in the tuple and comparing the corresponding values\n",
        "one index at a time. Here, I show how this works when one tool is\n",
        "heavier than another:"
      ],
      "id": "819d9c74-bd09-4cdb-bc94-c86ba0c5e0e7"
    },
    {
      "cell_type": "code",
      "execution_count": 46,
      "metadata": {
        "outputId": "75c551c8-6635-402e-d7e9-76d6af8b26f2",
        "slideshow": {
          "slide_type": "fragment"
        }
      },
      "outputs": [
        {
          "output_type": "display_data",
          "metadata": {},
          "data": {
            "text/plain": [
              "False"
            ]
          }
        }
      ],
      "source": [
        "saw = (5, \"circular saw\")\n",
        "jackhammer = (40, \"jackhammer\")\n",
        "(jackhammer < saw)  # False"
      ],
      "id": "a725d79b-4a7c-4c08-b062-133199c9a51b"
    },
    {
      "cell_type": "markdown",
      "metadata": {},
      "source": [
        "If the first position in the tuples being compared are equal—weight in\n",
        "this case—then the `tuple` comparison will move on to the second\n",
        "position, and so on. You can take advantage of this `tupl`e comparison\n",
        "behavior in order to sort the `list` of power tools first by weight and\n",
        "then by name. Here, I define a `key` function that returns a tuple\n",
        "containing the two attributes that I want to sort on in order of\n",
        "priority:"
      ],
      "id": "ac5a190e-0578-4681-9a80-36fbfb3847d7"
    },
    {
      "cell_type": "code",
      "execution_count": 47,
      "metadata": {
        "outputId": "82e0928e-3a56-48e9-87ea-01acf5360616",
        "slideshow": {
          "slide_type": "fragment"
        }
      },
      "outputs": [
        {
          "output_type": "stream",
          "name": "stdout",
          "text": [
            "[Tool(name='drill', weight=4), Tool(name='sander', weight=4), Tool(name='circular saw', weight=5), Tool(name='jackhammer', weight=40)]"
          ]
        }
      ],
      "source": [
        "power_tools.sort(key=lambda x: (x.weight, x.name))\n",
        "print(power_tools)"
      ],
      "id": "efc09b19-6605-45d1-b8e4-0c11a870119f"
    },
    {
      "cell_type": "markdown",
      "metadata": {},
      "source": [
        "One limitation of having the `key` function return a `tuple` is that the\n",
        "direction of sorting for all criteria must be the same (either all in\n",
        "ascending order, or all in descending order). If I provide the `reverse`\n",
        "parameter to the `sort` method, it will affect both criteria in the\n",
        "`tuple` the same way (note how ’`sander'` now comes before `'drill'`\n",
        "instead of after):"
      ],
      "id": "cab3f7ea-91d5-4408-ac50-19ac0abfd3f9"
    },
    {
      "cell_type": "code",
      "execution_count": 48,
      "metadata": {
        "outputId": "1c344299-c69f-46ac-f83d-0705b0b721bc",
        "slideshow": {
          "slide_type": "fragment"
        }
      },
      "outputs": [
        {
          "output_type": "stream",
          "name": "stdout",
          "text": [
            "[Tool(name='jackhammer', weight=40), Tool(name='circular saw', weight=5), Tool(name='sander', weight=4), Tool(name='drill', weight=4)]"
          ]
        }
      ],
      "source": [
        "power_tools.sort(\n",
        "    key=lambda x: (x.weight, x.name), reverse=True\n",
        ")  # Makes all criteria descending\n",
        "print(power_tools)"
      ],
      "id": "64f77cf0-da67-474b-85a5-ffc0b2aa5aaa"
    },
    {
      "cell_type": "markdown",
      "metadata": {},
      "source": [
        "For situations where you do want to have different sorting orders,\n",
        "Python provides a *stable* sorting algorithm. The `sort` method of the\n",
        "list type will preserve the order of the input list when the `key`\n",
        "function returns values that are equal to each other. This means that I\n",
        "can call `sort` multiple times on the same `list` to combine different\n",
        "criteria together. Here, I produce the same sort ordering of `weight`\n",
        "descending and `name`b ascending as I did above but by using two\n",
        "separate calls to sort:"
      ],
      "id": "fe734108-407e-4971-9e8d-d18d642723cd"
    },
    {
      "cell_type": "code",
      "execution_count": 49,
      "metadata": {
        "outputId": "3eacf1d8-dcd2-4f61-80d1-df014c5b5237",
        "slideshow": {
          "slide_type": "fragment"
        }
      },
      "outputs": [
        {
          "output_type": "stream",
          "name": "stdout",
          "text": [
            "[Tool(name='jackhammer', weight=40), Tool(name='circular saw', weight=5), Tool(name='drill', weight=4), Tool(name='sander', weight=4)]"
          ]
        }
      ],
      "source": [
        "power_tools.sort(key=lambda x: x.name)  # Name ascending\n",
        "power_tools.sort(key=lambda x: x.weight, reverse=True)  # Weight descending\n",
        "print(power_tools)"
      ],
      "id": "220d3e78-c7c9-4cc1-8298-84829199db89"
    },
    {
      "cell_type": "markdown",
      "metadata": {},
      "source": [
        "This same approach can be used to combine as many different types of\n",
        "sorting criteria as you’d like in any direction, respectively. You just\n",
        "need to make sure that you execute the sorts in the opposite sequence of\n",
        "what you want the final `list` to contain. In this example, I wanted the\n",
        "sort order to be by `weight` descending and then by `name` ascending, so\n",
        "I had to do the `name` sort first, followed by the `weight` sort.\n",
        "\n",
        "That said, the approach of having the key function return a tuple, and\n",
        "using unary negation to mix sort orders for numbers, is simpler to read\n",
        "and requires less code. I recommend only using multiple calls to sort if\n",
        "it’s absolutely necessary.\n",
        "\n",
        "<a id='item10'></a> \\### #10. Prefer `get` over `in` and `KeyError` to\n",
        "handle missing dictionairy keys (EP 16)\n",
        "\n",
        "The three fundamental operations for interacting with dictionaries are\n",
        "accessing, assigning, and deleting keys and their associated values. The\n",
        "contents of dictionaries are dynamic, and thus it’s entirely\n",
        "possible—even likely—that when you try to access or delete a key, it\n",
        "won’t already be present.\n",
        "\n",
        "For example, say that I’m trying to determine people’s favorite type of\n",
        "bread to devise the menu for a sandwich shop. Here, I define a\n",
        "dictionary of counters with the current votes for each style:"
      ],
      "id": "e0f9b594-c653-44a9-9632-6948e3df6700"
    },
    {
      "cell_type": "code",
      "execution_count": 50,
      "metadata": {
        "slideshow": {
          "slide_type": "fragment"
        }
      },
      "outputs": [],
      "source": [
        "counters = {\n",
        "    \"pumpernickel\": 2,\n",
        "    \"sourdough\": 1,\n",
        "}"
      ],
      "id": "ef97aa3b-735a-4d8c-b2e5-06cc1d0452f7"
    },
    {
      "cell_type": "markdown",
      "metadata": {},
      "source": [
        "To increment the counter for a new vote, I need to see if the key\n",
        "exists, insert the key with a default counter value of zero if it’s\n",
        "missing, and then increment the counter’s value. This requires accessing\n",
        "the key two times and assigning it once. Here, I accomplish this task\n",
        "using an `if` statement with an `in` expression that returns `True` when\n",
        "the key is present:"
      ],
      "id": "1f23067b-d8b8-40b5-80fc-d4dfb5e1dafe"
    },
    {
      "cell_type": "code",
      "execution_count": 51,
      "metadata": {
        "slideshow": {
          "slide_type": "fragment"
        }
      },
      "outputs": [],
      "source": [
        "key = \"wheat\"\n",
        "\n",
        "if key in counters:\n",
        "    count = counters[key]\n",
        "else:\n",
        "    count = 0\n",
        "\n",
        "counters[key] = count + 1"
      ],
      "id": "a7f1fff1-c29c-4c48-8595-ab63af372e07"
    },
    {
      "cell_type": "markdown",
      "metadata": {},
      "source": [
        "Another way to accomplish the same behavior is by relying on how\n",
        "dictionaries raise a `KeyError` exception when you try to get the value\n",
        "for a key that doesn’t exist. This approach is more efficient because it\n",
        "requires only one access and one assignment:"
      ],
      "id": "f03fcfe3-3da1-432a-9287-a3c771d678cd"
    },
    {
      "cell_type": "code",
      "execution_count": 52,
      "metadata": {
        "slideshow": {
          "slide_type": "fragment"
        }
      },
      "outputs": [],
      "source": [
        "try:\n",
        "    count = counters[key]\n",
        "except KeyError:\n",
        "    count = 0\n",
        "\n",
        "counters[key] = count + 1"
      ],
      "id": "90e08b0b-db24-4bcf-b9e5-2a62a8de51f0"
    },
    {
      "cell_type": "markdown",
      "metadata": {},
      "source": [
        "This flow of fetching a key that exists or returning a default value is\n",
        "so common that the dict built-in type provides the `get` method to\n",
        "accomplish this task. The second parameter to `get` is the default value\n",
        "to return in the case that the key—the first parameter—isn’t present.\n",
        "This also requires only one access and one assignment, but it’s much\n",
        "shorter than the `KeyError` example:"
      ],
      "id": "b1a2cbc2-a607-4693-94ea-9968c280f4d1"
    },
    {
      "cell_type": "code",
      "execution_count": 53,
      "metadata": {
        "slideshow": {
          "slide_type": "fragment"
        }
      },
      "outputs": [],
      "source": [
        "count = counters.get(key, 0)\n",
        "counters[key] = count + 1"
      ],
      "id": "36bb8bd0-a044-49b6-b423-c4b20fb44c35"
    },
    {
      "cell_type": "markdown",
      "metadata": {},
      "source": [
        "Thus, for a dictionary with simple types, using the `get` method is the\n",
        "shortest and clearest option.\n",
        "\n",
        "> Note: ff you’re maintaining dictionaries of counters like this, it’s\n",
        "> worth considering the Counter class from the collections built-in\n",
        "> module, which provides most of the facilities you are likely to need.\n",
        "\n",
        "What if the values of the dictionary are a more complex type, like a\n",
        "`list`? For example, say that instead of only counting votes, I also\n",
        "want to know who voted for each type of bread. Here, I do this by\n",
        "associating a list of names with each key:"
      ],
      "id": "f36d1031-2683-4a1a-ad59-9ee1cc8d3b27"
    },
    {
      "cell_type": "code",
      "execution_count": 54,
      "metadata": {
        "slideshow": {
          "slide_type": "fragment"
        }
      },
      "outputs": [],
      "source": [
        "votes = {\n",
        "    \"baguette\": [\"Bob\", \"Alice\"],\n",
        "    \"ciabatta\": [\"Coco\", \"Deb\"],\n",
        "}\n",
        "key = \"brioche\"\n",
        "who = \"Elmer\""
      ],
      "id": "d824296c-db0c-49b1-82d7-723ab5215c42"
    },
    {
      "cell_type": "markdown",
      "metadata": {},
      "source": [
        "Similarly, you can use the get method to fetch a list value when the key\n",
        "is present, or do one fetch and one assignment if the key isn’t present:"
      ],
      "id": "b6e3fd9d-e86e-41e7-82f2-6edea8684f7f"
    },
    {
      "cell_type": "code",
      "execution_count": 55,
      "metadata": {
        "outputId": "e4f7fb29-8ad9-46b6-adab-aece6f03670d",
        "slideshow": {
          "slide_type": "fragment"
        }
      },
      "outputs": [
        {
          "output_type": "stream",
          "name": "stdout",
          "text": [
            "{'baguette': ['Bob', 'Alice'], 'ciabatta': ['Coco', 'Deb'], 'brioche': ['Elmer']}"
          ]
        }
      ],
      "source": [
        "names = votes.get(key)\n",
        "if names is None:\n",
        "    votes[key] = names = []\n",
        "names.append(who)\n",
        "print(votes)"
      ],
      "id": "0f845d33-92f7-437c-b2f2-ca4a7d5aa768"
    },
    {
      "cell_type": "markdown",
      "metadata": {},
      "source": [
        "The approach that involves using `get` to fetch list values can further\n",
        "be shortened by one line if you use an assignment expression with the\n",
        "walrus operator which was introduced in Python 3.8. [Read more about\n",
        "that on Real\n",
        "Python](https://realpython.com/python38-new-features/#the-walrus-in-the-room-assignment-expressions).\n",
        "For now, we will just leave you with the example:"
      ],
      "id": "9deacb30-15f9-43b2-afae-021aa96dbd5b"
    },
    {
      "cell_type": "code",
      "execution_count": 56,
      "metadata": {
        "outputId": "493463fd-69d6-42e4-d647-38e6add60f99",
        "slideshow": {
          "slide_type": "fragment"
        }
      },
      "outputs": [
        {
          "output_type": "stream",
          "name": "stdout",
          "text": [
            "{'baguette': ['Bob', 'Alice'], 'ciabatta': ['Coco', 'Deb'], 'brioche': ['Elmer', 'Elmer']}"
          ]
        }
      ],
      "source": [
        "# note: this will throw error on Google Colab, which is Python 3.6\n",
        "if (names := votes.get(key)) is None:\n",
        "    votes[key] = names = []\n",
        "names.append(who)\n",
        "print(votes)"
      ],
      "id": "570fbf1f-7b91-433e-b454-5598058f336a"
    },
    {
      "cell_type": "markdown",
      "metadata": {},
      "source": [
        "## Functions\n",
        "\n",
        "<a id='item11'></a> \\### #11. Never unpack more than three variables\n",
        "when functions return multiple values (EP #19)\n",
        "\n",
        "One effect of the unpacking syntax (see [item 4](#item4)) is that it\n",
        "allows Python functions to seemingly return more than one value. For\n",
        "example, say that I’m trying to determine various statistics for a\n",
        "population of alligators. Given a list of lengths, I need to calculate\n",
        "the minimum and maximum lengths in the population. Here, I do this in a\n",
        "single function that appears to return two values:"
      ],
      "id": "27318eab-825a-4e6a-a90e-50b1d06794f1"
    },
    {
      "cell_type": "code",
      "execution_count": 57,
      "metadata": {
        "outputId": "70dfdc2f-fe8e-4df1-8b36-1648ea7c0328",
        "slideshow": {
          "slide_type": "fragment"
        }
      },
      "outputs": [
        {
          "output_type": "stream",
          "name": "stdout",
          "text": [
            "Min: 60, Max: 73"
          ]
        }
      ],
      "source": [
        "def get_stats(numbers):\n",
        "    minimum = min(numbers)\n",
        "    maximum = max(numbers)\n",
        "    return minimum, maximum\n",
        "\n",
        "\n",
        "lengths = [63, 73, 72, 60, 67, 66, 71, 61, 72, 70]\n",
        "minimum, maximum = get_stats(lengths)  # Two return values\n",
        "print(f\"Min: {minimum}, Max: {maximum}\")"
      ],
      "id": "36a6df62-e4db-4f2f-94c5-319476606208"
    },
    {
      "cell_type": "markdown",
      "metadata": {},
      "source": [
        "The way this works is that multiple values are returned together in a\n",
        "two-item tuple. The calling code then unpacks the returned tuple by\n",
        "assigning two variables. Here, I use an even simpler example to show how\n",
        "an unpacking statement and multiple-return function work the same way:"
      ],
      "id": "be482333-237c-447f-8046-005117598ce1"
    },
    {
      "cell_type": "code",
      "execution_count": 58,
      "metadata": {
        "slideshow": {
          "slide_type": "fragment"
        }
      },
      "outputs": [],
      "source": [
        "first, second = 1, 2\n",
        "assert first == 1\n",
        "assert second == 2\n",
        "\n",
        "\n",
        "def my_function():\n",
        "    return [1, 2]\n",
        "\n",
        "\n",
        "first, second = my_function()\n",
        "assert first == 1\n",
        "assert second == 2"
      ],
      "id": "8a6159a0-5491-48c8-a661-15c4131caa82"
    },
    {
      "cell_type": "code",
      "execution_count": 59,
      "metadata": {},
      "outputs": [],
      "source": [
        "_, second = my_function()\n"
      ],
      "id": "cbb60fd2-6f4d-4c18-a402-5c48ab698dce"
    },
    {
      "cell_type": "markdown",
      "metadata": {},
      "source": [
        "Multiple return values can also be received by starred expressions for\n",
        "catch-all unpacking. For example, say I need another function that\n",
        "calculates how big each alligator is relative to the population average.\n",
        "This function returns a list of ratios, but I can receive the longest\n",
        "and shortest items individually by using a starred expression for the\n",
        "middle portion of the list:"
      ],
      "id": "78eadc5a-f320-43c4-bc77-4b6c1f9295c4"
    },
    {
      "cell_type": "code",
      "execution_count": 60,
      "metadata": {
        "outputId": "b561565c-ebd9-40e8-a1ab-e5bab78a03c0",
        "slideshow": {
          "slide_type": "fragment"
        }
      },
      "outputs": [
        {
          "output_type": "stream",
          "name": "stdout",
          "text": [
            "Longest: 108%\n",
            "Shortest:  89%"
          ]
        }
      ],
      "source": [
        "def get_avg_ratio(numbers):\n",
        "    average = sum(numbers) / len(numbers)\n",
        "    scaled = [x / average for x in numbers]\n",
        "    scaled.sort(reverse=True)\n",
        "    return scaled\n",
        "\n",
        "\n",
        "longest, *middle, shortest = get_avg_ratio(lengths)\n",
        "print(f\"Longest: {longest:>4.0%}\")\n",
        "print(f\"Shortest: {shortest:>4.0%}\")"
      ],
      "id": "2485ec4a-0af8-4ca9-a68b-a12d727b0748"
    },
    {
      "cell_type": "markdown",
      "metadata": {},
      "source": [
        "Now, imagine that the program’s requirements change, and I need to also\n",
        "determine the average length, median length, and total population size\n",
        "of the alligators. I can do this by expanding the `get_stats` function\n",
        "to also calculate these statistics and return them in the result tuple\n",
        "that is unpacked by the caller:"
      ],
      "id": "61d54e9e-86e6-447c-bc27-8efd858eacf7"
    },
    {
      "cell_type": "code",
      "execution_count": 61,
      "metadata": {
        "outputId": "b9a5a4ae-d882-4dbe-bd62-c79d342d6c96",
        "slideshow": {
          "slide_type": "fragment"
        }
      },
      "outputs": [
        {
          "output_type": "stream",
          "name": "stdout",
          "text": [
            "Min: 60, Max: 73\n",
            "Average: 67.5, Median: 68.5, Count 10"
          ]
        }
      ],
      "source": [
        "def get_stats(numbers):\n",
        "    minimum = min(numbers)\n",
        "    maximum = max(numbers)\n",
        "    count = len(numbers)\n",
        "    average = sum(numbers) / count\n",
        "\n",
        "    sorted_numbers = sorted(numbers)\n",
        "    middle = count // 2\n",
        "    if count % 2 == 0:\n",
        "        lower = sorted_numbers[middle - 1]\n",
        "        upper = sorted_numbers[middle]\n",
        "        median = (lower + upper) / 2\n",
        "    else:\n",
        "        median = sorted_numbers[middle]\n",
        "\n",
        "    return minimum, maximum, average, median, count\n",
        "\n",
        "\n",
        "minimum, maximum, average, median, count = get_stats(lengths)\n",
        "\n",
        "print(f\"Min: {minimum}, Max: {maximum}\")\n",
        "print(f\"Average: {average}, Median: {median}, Count {count}\")\n",
        "\n",
        "assert minimum == 60\n",
        "assert maximum == 73\n",
        "assert average == 67.5\n",
        "assert median == 68.5\n",
        "assert count == 10"
      ],
      "id": "f054d257-a1de-44dd-bc72-0fedd9602ea7"
    },
    {
      "cell_type": "markdown",
      "metadata": {},
      "source": [
        "There are two problems with this code. First, all the return values are\n",
        "numeric, so it is all too easy to reorder them accidentally (e.g.,\n",
        "swapping average and median), which can cause bugs that are hard to spot\n",
        "later. Using a large number of return values is extremely error prone.\n",
        "\n",
        "Second, the line that calls the function and unpacks the values is long,\n",
        "and it likely will need to be wrapped in one of a variety of ways, which\n",
        "hurts readability.\n",
        "\n",
        "To avoid these problems, you should never use more than three variables\n",
        "when unpacking the multiple return values from a function. These could\n",
        "be individual values from a three-tuple, two variables and one catch-all\n",
        "starred expression, or anything shorter. If you need to unpack more\n",
        "return values than that, you’re better off defining a `dataclass` or\n",
        "`namedtuple` and having your function return an instance of that\n",
        "instead.\n",
        "\n",
        "### #12. Use `None` and docstrings to specify dynamic default arguments (EP #24)\n",
        "\n",
        "Sometimes you need to use a non-static type as a keyword argument’s\n",
        "default value. For example, say that I want to load a value encoded as\n",
        "JSON data; if decoding the data fails, I want an empty dictionary to be\n",
        "returned by default:"
      ],
      "id": "a80570ae-913b-48af-b3d1-a22d1768cf8f"
    },
    {
      "cell_type": "code",
      "execution_count": 62,
      "metadata": {
        "slideshow": {
          "slide_type": "fragment"
        }
      },
      "outputs": [],
      "source": [
        "import json\n",
        "\n",
        "\n",
        "def decode(data, default={}):\n",
        "    try:\n",
        "        return json.loads(data)\n",
        "    except ValueError:\n",
        "        return default"
      ],
      "id": "da4b3a40-6639-4ae6-9781-46548a7eb076"
    },
    {
      "cell_type": "markdown",
      "metadata": {},
      "source": [
        "The problem here is that dictionary specified for `default` will be\n",
        "shared by all calls to `decode` because default argument values are\n",
        "evaluated only once (at module load time). This can cause extremely\n",
        "surprising behavior:"
      ],
      "id": "636e1e59-2a22-49b7-8f42-5d3b7b9f5bc3"
    },
    {
      "cell_type": "code",
      "execution_count": 63,
      "metadata": {
        "outputId": "d0c66654-0f42-4032-ed9d-c18fe7686d53",
        "slideshow": {
          "slide_type": "fragment"
        }
      },
      "outputs": [
        {
          "output_type": "stream",
          "name": "stdout",
          "text": [
            "Foo: {'stuff': 5, 'meep': 1}\n",
            "Bar: {'stuff': 5, 'meep': 1}"
          ]
        }
      ],
      "source": [
        "foo = decode(\"bad data\")\n",
        "foo[\"stuff\"] = 5\n",
        "bar = decode(\"also bad\")\n",
        "bar[\"meep\"] = 1\n",
        "print(\"Foo:\", foo)\n",
        "print(\"Bar:\", bar)"
      ],
      "id": "c07139a2-3456-477e-afd1-3d64db1ce039"
    },
    {
      "cell_type": "markdown",
      "metadata": {},
      "source": [
        "You might expect two different dictionaries, each with a single key and\n",
        "value. But modifying one seems to also modify the other. The culprit is\n",
        "that `foo` and `bar` are both equal to the default parameter. They are\n",
        "the same dictionary object:"
      ],
      "id": "124a10ce-2163-4c3a-9c53-17fa36fc329c"
    },
    {
      "cell_type": "code",
      "execution_count": 64,
      "metadata": {
        "outputId": "ed21d873-d612-4383-9273-8ae6b85caeca",
        "slideshow": {
          "slide_type": "fragment"
        }
      },
      "outputs": [
        {
          "output_type": "display_data",
          "metadata": {},
          "data": {
            "text/plain": [
              "True"
            ]
          }
        }
      ],
      "source": [
        "foo is bar"
      ],
      "id": "e4557622-0b5b-4533-94f6-413b2c5a4018"
    },
    {
      "cell_type": "markdown",
      "metadata": {},
      "source": [
        "The fix is to set the keyword argument default value to None and then\n",
        "document the behavior in the function’s docstring:"
      ],
      "id": "637aaa5a-6245-4309-9aec-fa94db7fa419"
    },
    {
      "cell_type": "code",
      "execution_count": 65,
      "metadata": {
        "slideshow": {
          "slide_type": "fragment"
        }
      },
      "outputs": [],
      "source": [
        "def decode(data, default=None):\n",
        "    \"\"\"Load JSON data from a string.\n",
        "\n",
        "    Args:\n",
        "         data: JSON data to decode.\n",
        "         default: Value to return if decoding fails.\n",
        "             Defaults to an empty dictionary.\n",
        "    \"\"\"\n",
        "    try:\n",
        "        return json.loads(data)\n",
        "    except ValueError:\n",
        "        if default is None:\n",
        "            default = {}\n",
        "    return default"
      ],
      "id": "197cd717-77aa-40fd-b691-36fce0251450"
    },
    {
      "cell_type": "markdown",
      "metadata": {},
      "source": [
        "Now, running the same test code as before produces the expected result:"
      ],
      "id": "f8ec0862-c1e5-4b53-a2b5-685c1041bba6"
    },
    {
      "cell_type": "code",
      "execution_count": 66,
      "metadata": {
        "outputId": "68580dd6-6630-40b3-c720-34f1f29c10f9",
        "slideshow": {
          "slide_type": "fragment"
        }
      },
      "outputs": [
        {
          "output_type": "stream",
          "name": "stdout",
          "text": [
            "Foo: {'stuff': 5}\n",
            "Bar: {'meep': 1}"
          ]
        }
      ],
      "source": [
        "foo = decode(\"bad data\")\n",
        "foo[\"stuff\"] = 5\n",
        "bar = decode(\"also bad\")\n",
        "bar[\"meep\"] = 1\n",
        "print(\"Foo:\", foo)\n",
        "print(\"Bar:\", bar)"
      ],
      "id": "ee7dcb11-1338-4bce-bb32-5e9ad3fa3444"
    },
    {
      "cell_type": "code",
      "execution_count": 67,
      "metadata": {
        "outputId": "ccc24cbf-21df-4e10-bc49-2d967f4c7540",
        "slideshow": {
          "slide_type": "subslide"
        }
      },
      "outputs": [
        {
          "output_type": "display_data",
          "metadata": {},
          "data": {
            "text/plain": [
              "True"
            ]
          }
        }
      ],
      "source": [
        "foo is not bar"
      ],
      "id": "c93a3d21-1a49-44d5-a84b-d4803142af47"
    },
    {
      "cell_type": "markdown",
      "metadata": {},
      "source": [
        "So remember: - A default argument value is evaluated only once: during\n",
        "function definition at module load time. This can cause odd behaviors\n",
        "for dynamic values (like `{}`, `[]`, or `datetime.now()`). - Use `None`\n",
        "as the default value for any keyword argument that has a dynamic value.\n",
        "Document the actual default behavior in the function’s docstring.\n",
        "\n",
        "## Comprehensions\n",
        "\n",
        "### #13. Use comprehensions instead of `map` and `filter` (EP #27)\n",
        "\n",
        "Python provides compact syntax for deriving a new `list` from another\n",
        "sequence or iterable. These expressions are called list comprehensions.\n",
        "For example, say that I want to compute the square of each number in a\n",
        "`list`. Here, I do this by using a simple `for` loop:"
      ],
      "id": "e6bd286d-4193-47fd-bf02-7d8ce36e1fd6"
    },
    {
      "cell_type": "code",
      "execution_count": 68,
      "metadata": {
        "outputId": "741c9ef1-a741-45a1-e652-2cfd14a125a0",
        "slideshow": {
          "slide_type": "fragment"
        }
      },
      "outputs": [
        {
          "output_type": "stream",
          "name": "stdout",
          "text": [
            "[1, 4, 9, 16, 25, 36, 49, 64, 81, 100]"
          ]
        }
      ],
      "source": [
        "a = [1, 2, 3, 4, 5, 6, 7, 8, 9, 10]\n",
        "squares = []\n",
        "for x in a:\n",
        "    squares.append(x ** 2)\n",
        "print(squares)"
      ],
      "id": "38e613cd-d9cd-453a-8faa-988135f0f465"
    },
    {
      "cell_type": "markdown",
      "metadata": {},
      "source": [
        "With a list comprehension, I can achieve the same outcome by specifying\n",
        "the expression for my computation along with the input sequence to loop\n",
        "over:"
      ],
      "id": "ca18243b-fd5f-416b-82ab-03c7c01851c7"
    },
    {
      "cell_type": "code",
      "execution_count": 69,
      "metadata": {
        "outputId": "a32a4c6f-e578-4cb3-9ff9-ffe68a6e44ec",
        "slideshow": {
          "slide_type": "fragment"
        }
      },
      "outputs": [
        {
          "output_type": "stream",
          "name": "stdout",
          "text": [
            "[1, 4, 9, 16, 25, 36, 49, 64, 81, 100]"
          ]
        }
      ],
      "source": [
        "squares = [x ** 2 for x in a]  # List comprehension\n",
        "print(squares)"
      ],
      "id": "a3d6d54d-95b6-4b6a-8521-6bb3ae73c588"
    },
    {
      "cell_type": "markdown",
      "metadata": {},
      "source": [
        "Unless you’re applying a single-argument function, list comprehensions\n",
        "are also clearer than the `map` built-in function for simple cases.\n",
        "`map` requires the creation of a lambda function for the computation,\n",
        "which is visually noisy:"
      ],
      "id": "e00d88d8-ecf6-4d90-a1d9-58623bdfdce6"
    },
    {
      "cell_type": "code",
      "execution_count": 70,
      "metadata": {
        "slideshow": {
          "slide_type": "fragment"
        }
      },
      "outputs": [],
      "source": [
        "alt = map(lambda x: x ** 2, a)"
      ],
      "id": "f5a9fc3c-b3f1-4e54-bf94-e8e5b3dab9bf"
    },
    {
      "cell_type": "markdown",
      "metadata": {},
      "source": [
        "Unlike `map`, list comprehensions let you easily filter items from the\n",
        "input list, removing corresponding outputs from the result. For example,\n",
        "say I want to compute the squares of the numbers that are divisible by\n",
        "2. Here, I do this by adding a conditional expression to the list\n",
        "comprehension after the loop:"
      ],
      "id": "b5c6c11c-762a-4b22-a6bc-20ca6869cefb"
    },
    {
      "cell_type": "code",
      "execution_count": 71,
      "metadata": {
        "outputId": "c3c7d737-79f4-46e7-b528-4247c93dae62",
        "slideshow": {
          "slide_type": "fragment"
        }
      },
      "outputs": [
        {
          "output_type": "stream",
          "name": "stdout",
          "text": [
            "[4, 16, 36, 64, 100]"
          ]
        }
      ],
      "source": [
        "even_squares = [x ** 2 for x in a if x % 2 == 0]\n",
        "print(even_squares)"
      ],
      "id": "46c71daf-477c-426f-9182-fb95f5ee8a99"
    },
    {
      "cell_type": "markdown",
      "metadata": {},
      "source": [
        "The `filter` built-in function can be used along with map to achieve the\n",
        "same outcome, but it is much harder to read:"
      ],
      "id": "5bb5222a-340a-4f4d-8df5-1e0118a508d7"
    },
    {
      "cell_type": "code",
      "execution_count": 72,
      "metadata": {
        "slideshow": {
          "slide_type": "fragment"
        }
      },
      "outputs": [],
      "source": [
        "alt = map(lambda x: x ** 2, filter(lambda x: x % 2 == 0, a))\n",
        "assert even_squares == list(alt)"
      ],
      "id": "dc193bc0-d5b3-42bf-94a7-da786acd4234"
    },
    {
      "cell_type": "markdown",
      "metadata": {},
      "source": [
        "Dictionaries and sets have their own equivalents of list comprehensions\n",
        "(called *dictionary comprehensions* and *set comprehensions*,\n",
        "respectively). These make it easy to create other types of derivative\n",
        "data structures when writing algorithms:"
      ],
      "id": "191088df-2d69-4532-9319-7e8fadbcd193"
    },
    {
      "cell_type": "code",
      "execution_count": 73,
      "metadata": {
        "outputId": "a55daf79-f7d4-4e39-b2d0-9383c92e7edd",
        "slideshow": {
          "slide_type": "fragment"
        }
      },
      "outputs": [
        {
          "output_type": "stream",
          "name": "stdout",
          "text": [
            "{2: 4, 4: 16, 6: 36, 8: 64, 10: 100}\n",
            "{216, 729, 27}"
          ]
        }
      ],
      "source": [
        "# note both dictionairy and set comprehensions use {} which may be confusing at first\n",
        "even_squares_dict = {x: x ** 2 for x in a if x % 2 == 0}\n",
        "threes_cubed_set = {x ** 3 for x in a if x % 3 == 0}\n",
        "print(even_squares_dict)\n",
        "print(threes_cubed_set)"
      ],
      "id": "19e94ac3-c894-4336-b1f4-bf4b9239d081"
    },
    {
      "cell_type": "markdown",
      "metadata": {},
      "source": [
        "Achieving the same outcome is possible with map and filter if you wrap\n",
        "each call with a corresponding constructor. These statements get so long\n",
        "that you have to break them up across multiple lines, which is even\n",
        "noisier and should be avoided:"
      ],
      "id": "cdd50c48-1bfd-4002-a0c7-ffd528e18b4e"
    },
    {
      "cell_type": "code",
      "execution_count": 74,
      "metadata": {
        "slideshow": {
          "slide_type": "fragment"
        }
      },
      "outputs": [],
      "source": [
        "alt_dict = dict(map(lambda x: (x, x ** 2), filter(lambda x: x % 2 == 0, a)))\n",
        "alt_set = set(map(lambda x: x ** 3, filter(lambda x: x % 3 == 0, a)))"
      ],
      "id": "b0a7b58c-7a43-4f7b-9303-92a7b37f5fc6"
    },
    {
      "cell_type": "markdown",
      "metadata": {},
      "source": [
        "### #14. Avoid more than two control subexpressions in comprehensions (EP #28)\n",
        "\n",
        "Beyond basic usage, comprehensions support multiple levels of looping.\n",
        "For example, say that I want to simplify a matrix (a `list` containing\n",
        "other `list` instances) into one flat `list` of all cells. Here, I do\n",
        "this with a list comprehension by including two for subexpressions.\n",
        "These subexpressions run in the order provided, from left to right:"
      ],
      "id": "bcd21bd9-6a8d-454e-8b4d-9c094d52a2b9"
    },
    {
      "cell_type": "code",
      "execution_count": 75,
      "metadata": {
        "outputId": "cc2ebfd8-7d36-431e-c69b-72983fdfe8f2",
        "slideshow": {
          "slide_type": "fragment"
        }
      },
      "outputs": [
        {
          "output_type": "stream",
          "name": "stdout",
          "text": [
            "[1, 2, 3, 4, 5, 6, 7, 8, 9]"
          ]
        }
      ],
      "source": [
        "matrix = [[1, 2, 3], [4, 5, 6], [7, 8, 9]]\n",
        "flat = [x for row in matrix for x in row]\n",
        "print(flat)"
      ],
      "id": "9adab656-b427-498a-bc56-ac8e750face6"
    },
    {
      "cell_type": "markdown",
      "metadata": {},
      "source": [
        "This example is simple, readable, and a reasonable usage of multiple\n",
        "loops in a comprehension. Another reasonable usage of multiple loops\n",
        "involves replicating the two-level-deep layout of the input `list`. For\n",
        "example, say that I want to square the value in each cell of a\n",
        "twodimensional matrix. This comprehension is noisier because of the\n",
        "extra `[]` characters, but it’s still relatively easy to read:"
      ],
      "id": "c7ebe4cd-b7da-4eba-8b72-1c2a46b8b022"
    },
    {
      "cell_type": "code",
      "execution_count": 76,
      "metadata": {
        "outputId": "71f1ce09-7762-4189-ef43-861ae53ce272",
        "slideshow": {
          "slide_type": "fragment"
        }
      },
      "outputs": [
        {
          "output_type": "stream",
          "name": "stdout",
          "text": [
            "[[1, 4, 9], [16, 25, 36], [49, 64, 81]]"
          ]
        }
      ],
      "source": [
        "squared = [[x ** 2 for x in row] for row in matrix]\n",
        "print(squared)"
      ],
      "id": "ee275fee-f223-4405-aa75-486395df86f4"
    },
    {
      "cell_type": "markdown",
      "metadata": {},
      "source": [
        "If this comprehension included another loop, it would get so long that\n",
        "I’d have to split it over multiple lines:"
      ],
      "id": "c8c31491-cfee-4c52-9cd4-5941cb042a78"
    },
    {
      "cell_type": "code",
      "execution_count": 77,
      "metadata": {
        "slideshow": {
          "slide_type": "fragment"
        }
      },
      "outputs": [],
      "source": [
        "my_lists = [\n",
        "    [[1, 2, 3], [4, 5, 6]],\n",
        "]\n",
        "flat = [x for sublist1 in my_lists for sublist2 in sublist1 for x in sublist2]"
      ],
      "id": "f71c2d29-c671-46e9-85f9-d57cd4b9012e"
    },
    {
      "cell_type": "markdown",
      "metadata": {},
      "source": [
        "At this point, the multiline comprehension isn’t much shorter than the\n",
        "alternative. Here, I produce the same result using normal loop\n",
        "statements. The indentation of this version makes the looping clearer\n",
        "than the three-level-list comprehension:"
      ],
      "id": "2e9cd610-bda3-45d7-b743-42b491decba0"
    },
    {
      "cell_type": "code",
      "execution_count": 78,
      "metadata": {
        "slideshow": {
          "slide_type": "fragment"
        }
      },
      "outputs": [],
      "source": [
        "flat = []\n",
        "for sublist1 in my_lists:\n",
        "    for sublist2 in sublist1:\n",
        "        flat.extend(sublist2)"
      ],
      "id": "7fc6703c-f2f5-44d5-a645-36a701453242"
    },
    {
      "cell_type": "markdown",
      "metadata": {},
      "source": [
        "Comprehensions support multiple `if` conditions. Multiple conditions at\n",
        "the same loop level have an implicit `and` expression. For example, say\n",
        "that I want to filter a `list` of numbers to only even values greater\n",
        "than 4. These two list comprehensions are equivalent:"
      ],
      "id": "43a86852-3b8d-4903-9fd3-f206bef93684"
    },
    {
      "cell_type": "code",
      "execution_count": 79,
      "metadata": {
        "slideshow": {
          "slide_type": "fragment"
        }
      },
      "outputs": [],
      "source": [
        "a = [1, 2, 3, 4, 5, 6, 7, 8, 9, 10]\n",
        "b = [x for x in a if x > 4 if x % 2 == 0]\n",
        "c = [x for x in a if x > 4 and x % 2 == 0]"
      ],
      "id": "87bf125e-eca6-4ec5-89fb-1f2a37cd6d95"
    },
    {
      "cell_type": "markdown",
      "metadata": {},
      "source": [
        "Conditions can be specified at each level of looping after the `for`\n",
        "subexpression. For example, say I want to filter a matrix so the only\n",
        "cells remaining are those divisible by 3 in rows that sum to 10 or\n",
        "higher. Expressing this with a list comprehension does not require a lot\n",
        "of code, but it is extremely difficult to read:"
      ],
      "id": "f594f68b-ebab-4ffe-9130-1007e4430c97"
    },
    {
      "cell_type": "code",
      "execution_count": 80,
      "metadata": {
        "outputId": "be58fddd-5ee0-418b-cc7d-adcb9a1ddcb2",
        "slideshow": {
          "slide_type": "fragment"
        }
      },
      "outputs": [
        {
          "output_type": "stream",
          "name": "stdout",
          "text": [
            "[[6], [9]]"
          ]
        }
      ],
      "source": [
        "matrix = [[1, 2, 3], [4, 5, 6], [7, 8, 9]]\n",
        "filtered = [[x for x in row if x % 3 == 0] for row in matrix if sum(row) >= 10]\n",
        "print(filtered)"
      ],
      "id": "41a9da0f-1334-42d9-bfbd-be9399665c3a"
    },
    {
      "cell_type": "markdown",
      "metadata": {},
      "source": [
        "Although this example is a bit convoluted, in practice you’ll see\n",
        "situations arise where such comprehensions seem like a good fit. I\n",
        "strongly encourage you to avoid using `list`, `dict`, or `set`\n",
        "comprehensions that look like this. The resulting code is very difficult\n",
        "for new readers to understand. The potential for confusion is even worse\n",
        "for dict comprehensions since they already need an extra parameter to\n",
        "represent both the key and the value for each item.\n",
        "\n",
        "The rule of thumb is to avoid using more than two control subexpressions\n",
        "in a comprehension. This could be two conditions, two loops, or one\n",
        "condition and one loop. As soon as it gets more complicated than that,\n",
        "you should use normal if and for statements and write a helper function.\n",
        "\n",
        "## pandas\n",
        "\n",
        "### #15. Be aware of memory consumption and downcast where necessary\n",
        "\n",
        "We already covered this in our discussion of the [Ames Housing\n",
        "case](../notebooks/ames-housing/ames-housing.ipynb). We will only\n",
        "include the code for reference how to reduce your memory footprint of\n",
        "dataframes."
      ],
      "id": "27cdd422-9f21-4591-b914-a90dcc2524ac"
    },
    {
      "cell_type": "code",
      "execution_count": 81,
      "metadata": {
        "outputId": "d8e31aaa-3144-4e96-ec69-1ac2ea6fa796",
        "slideshow": {
          "slide_type": "fragment"
        }
      },
      "outputs": [
        {
          "output_type": "display_data",
          "metadata": {},
          "data": {
            "text/plain": [
              "1922208"
            ]
          }
        }
      ],
      "source": [
        "df = pd.read_csv(\n",
        "    \"https://github.com/eaisi/discover-projects/blob/main/ames-housing/AmesHousing.csv?raw=true\"\n",
        ")\n",
        "df.memory_usage().sum()"
      ],
      "id": "16e828ed-e91f-4c4c-b779-22c7de8f2abb"
    },
    {
      "cell_type": "code",
      "execution_count": 82,
      "metadata": {
        "outputId": "7668b434-6fd3-4fe0-f070-7f86b5a97649",
        "slideshow": {
          "slide_type": "subslide"
        }
      },
      "outputs": [
        {
          "output_type": "display_data",
          "metadata": {},
          "data": {
            "text/plain": [
              "419054"
            ]
          }
        }
      ],
      "source": [
        "# objects to categorical\n",
        "df[df.select_dtypes(include=\"object\").columns] = df.select_dtypes(\n",
        "    include=\"object\"\n",
        ").astype(\"category\")\n",
        "\n",
        "# convert integers to smallest unsigned integer and floats to smallest\n",
        "for old, new in [(\"integer\", \"unsigned\"), (\"float\", \"float\")]:\n",
        "    for col in df.select_dtypes(include=old).columns:\n",
        "        df[col] = pd.to_numeric(df[col], downcast=new)\n",
        "\n",
        "df.memory_usage().sum()"
      ],
      "id": "9a22cf8f-c54f-4e83-9e9a-354584bbd2c3"
    },
    {
      "cell_type": "markdown",
      "metadata": {},
      "source": [
        "### #16. Use `.loc` and `.iloc` for indexing dataframes (and forget about `.ix`)\n",
        "\n",
        "One-third of the top-15 voted [pandas questions on\n",
        "Stackoverflow](http://stackoverflow.com/questions/tagged/pandas?sort=votes&pageSize=15)\n",
        "are about indexing. Another one-third are about slicing. This seems as\n",
        "good a place as any to start.\n",
        "\n",
        "By indexing, we mean the selection of subsets of a `DataFrame` or\n",
        "`Series`. `DataFrames` (and to a lesser extent, `Series`) provide a\n",
        "difficult set of challenges:\n",
        "\n",
        "-   Like lists, you can index by location.\n",
        "-   Like dictionaries, you can index by label.\n",
        "-   Like NumPy arrays, you can index by boolean masks.\n",
        "-   Any of these indexers could be scalar indexes, or they could be\n",
        "    arrays, or they could be slices.\n",
        "-   Any of these should work on the index (row labels) or columns of a\n",
        "    DataFrame.\n",
        "-   And any of these should work on hierarchical indexes.\n",
        "\n",
        "The complexity of pandas’ indexing is a microcosm for the complexity of\n",
        "the pandas API in general. There’s a reason for the complexity (well,\n",
        "most of it), but that’s not much consolation while you’re learning.\n",
        "Still, all of these ways of indexing really are useful enough to justify\n",
        "their inclusion in the library.\n",
        "\n",
        "Since pandas 0.12, these tasks have been cleanly separated into two\n",
        "methods:\n",
        "\n",
        "1.  `.loc` for label-based indexing\n",
        "2.  `.iloc` for positional indexing\n",
        "\n",
        "Previously, `.ix` was used to handle both cases. You may encounter this\n",
        "in old blog-posts. `.ix` is deprecated, so stop using it.\n",
        "\n",
        "For more details, please read any (or all) of the following online\n",
        "tutorials: - [Using Pandas and Python To Explore Your\n",
        "Dataset](https://realpython.com/pandas-python-explore-dataset/) on Real\n",
        "Python; - [Data Indexing and Slicing\n",
        "notebok](https://github.com/jads-nl/PythonDataScienceHandbook/blob/8a34a4f653bdbdc01415a94dc20d4e9b97438965/notebooks/03.02-Data-Indexing-and-Selection.ipynb)\n",
        "by Jake VanderPlas - [pandas documentation on indexing and selecting\n",
        "data](https://pandas.pydata.org/pandas-docs/stable/user_guide/indexing.html#different-choices-for-indexing)\n",
        "\n",
        "### #17. Use method chaining to make your data preparation more readable\n",
        "\n",
        "Method chaining, where you call methods on an object one after another,\n",
        "is in vogue at the moment. It’s always been a style of programming\n",
        "that’s been possible with pandas:\n",
        "\n",
        "-   [assign](https://pandas.pydata.org/pandas-docs/stable/reference/api/pandas.DataFrame.assign.html)\n",
        "    (0.16.0): For adding new columns to a DataFrame in a chain (inspired\n",
        "    by dplyr’s mutate)\n",
        "-   [pipe](https://pandas.pydata.org/pandas-docs/stable/reference/api/pandas.DataFrame.pipe.html)\n",
        "    (0.16.2): For including user-defined methods in method chains.\n",
        "-   [rename](https://pandas.pydata.org/pandas-docs/stable/reference/api/pandas.DataFrame.rename.html)\n",
        "    (0.18.0): For altering axis names (in additional to changing the\n",
        "    actual labels as before).\n",
        "-   [Window\n",
        "    methods](https://pandas.pydata.org/docs/user_guide/window.html)\n",
        "    (0.18): Took the top-level pd.rolling\\_\\* and pd.expanding\\_\\*\n",
        "    functions and made them NDFrame methods with a groupby-like API.\n",
        "-   [Resample](https://pandas.pydata.org/pandas-docs/stable/reference/api/pandas.DataFrame.resample.html)\n",
        "    (0.18.0) Added a new groupby-like API\n",
        "-   [selection by\n",
        "    callable](https://pandas.pydata.org/docs/user_guide/indexing.html#selection-by-callable)\n",
        "    (0.18.1): You can pass a callable to the indexing methods, to be\n",
        "    evaluated within the DataFrame’s context (like .query, but with code\n",
        "    instead of strings).\n",
        "\n",
        "To illustrate the potential of method chaining, let’s look at this\n",
        "example with the Titanic dataset which explores the data of passengers\n",
        "that have embarked in Southampton:"
      ],
      "id": "fb07ef05-5c5e-4df7-885c-3e83da0a371d"
    },
    {
      "cell_type": "code",
      "execution_count": 83,
      "metadata": {
        "outputId": "8ad01c92-5764-4a55-9a38-494d4af12957",
        "slideshow": {
          "slide_type": "subslide"
        }
      },
      "outputs": [],
      "source": [
        "import sys\n",
        "import pandas as pd\n",
        "\n",
        "\n",
        "TITANIC_DATA = \"https://github.com/BindiChen/machine-learning/blob/master/data-analysis/007-method-chaining/data/train.csv?raw=true\"\n",
        "bins = [0, 13, 19, 61, sys.maxsize]\n",
        "labels = [\"<12\", \"Teen\", \"Adult\", \"Older\"]\n",
        "\n",
        "pclass_age_map = {\n",
        "    1: 37,\n",
        "    2: 29,\n",
        "    3: 24,\n",
        "}\n",
        "\n",
        "\n",
        "def replace_age_na(x_df, fill_map):\n",
        "    cond = x_df[\"Age\"].isna()\n",
        "    res = x_df.loc[cond, \"Pclass\"].map(fill_map)\n",
        "    x_df.loc[cond, \"Age\"] = res\n",
        "    return x_df"
      ],
      "id": "025ee209-603d-4031-935e-1596d3ebc735"
    },
    {
      "cell_type": "code",
      "execution_count": 84,
      "metadata": {
        "outputId": "8ad01c92-5764-4a55-9a38-494d4af12957",
        "slideshow": {
          "slide_type": "subslide"
        }
      },
      "outputs": [
        {
          "output_type": "display_data",
          "metadata": {},
          "data": {
            "text/html": [
              "<style type=\"text/css\">\n",
              "</style>\n"
            ]
          }
        }
      ],
      "source": [
        "view_southampton = (\n",
        "    pd.read_csv(TITANIC_DATA)\n",
        "    .pipe(replace_age_na, pclass_age_map)\n",
        "    .query('Embarked == \"S\"')\n",
        "    .assign(ageGroup=lambda df: pd.cut(df[\"Age\"], bins=bins, labels=labels))\n",
        "    .pivot_table(values=\"Survived\", columns=\"Pclass\", index=\"ageGroup\", aggfunc=\"mean\")\n",
        "    .rename_axis(\"\", axis=\"columns\")\n",
        "    .rename(\"Class {}\".format, axis=\"columns\")\n",
        "    .style.format(\"{:.2%}\")\n",
        ")\n",
        "\n",
        "view_southampton"
      ],
      "id": "1463f00c-4104-49c9-92d5-33f7a7b750c3"
    },
    {
      "cell_type": "code",
      "execution_count": 85,
      "metadata": {},
      "outputs": [],
      "source": [
        "_string = 'sdfjghsdfgjk'\n",
        "\n",
        "def clean_string(str):\n",
        "    return _string.upper().replace('S', 'Z')"
      ],
      "id": "0028f336-4490-4885-9c3b-675cb0022b41"
    },
    {
      "cell_type": "code",
      "execution_count": 86,
      "metadata": {},
      "outputs": [
        {
          "output_type": "display_data",
          "metadata": {},
          "data": {
            "text/plain": [
              "<function __main__.<lambda>(s)>"
            ]
          }
        }
      ],
      "source": [
        "lambda s: s.upper().replace('S', 'Z')"
      ],
      "id": "12f85666-f03a-4149-b0e0-b5afdd81fb1c"
    },
    {
      "cell_type": "markdown",
      "metadata": {},
      "source": [
        "Read more on method chaining in these tutorials:\n",
        "\n",
        "-   [Best practice method\n",
        "    chaining](https://towardsdatascience.com/using-pandas-method-chaining-to-improve-code-readability-d8517c5626ac)\n",
        "    by B. Chen (with the Titanic example).\n",
        "-   [Tom Augspurger’s explanation on method\n",
        "    chaining](https://tomaugspurger.github.io/method-chaining) goes a\n",
        "    bit more in depth on the reasoning and rationale behind it.\n",
        "\n",
        "### #18. Don’t use `inplace=True` operations on dataframes\n",
        "\n",
        "Most pandas methods have an `inplace` keyword that’s `False` by default.\n",
        "In general, you shouldn’t do inplace operations.\n",
        "\n",
        "First, if you like method chains then you simply can’t use inplace since\n",
        "the return value is `None`, terminating the chain.\n",
        "\n",
        "Second, I suspect people have a mental model of inplace operations\n",
        "happening, you know, inplace. That is, extra memory doesn’t need to be\n",
        "allocated for the result. But that might not actually be true. Quoting\n",
        "Jeff Reback from that answer\n",
        "\n",
        "> Their is no guarantee that an inplace operation is actually faster.\n",
        "> Often they are actually the same operation that works on a copy, but\n",
        "> the top-level reference is reassigned.\n",
        "\n",
        "That is, the pandas code might look something like this\n",
        "\n",
        "``` python\n",
        "def dataframe_method(self, inplace=False):\n",
        "    data = self.copy()  # regardless of inplace\n",
        "    result = ...\n",
        "    if inplace:\n",
        "        self._update_inplace(data)\n",
        "    else:\n",
        "        return result\n",
        "```\n",
        "\n",
        "There’s a lot of defensive copying in pandas. Part of this comes down to\n",
        "pandas being built on top of NumPy, and not having full control over how\n",
        "memory is handled and shared. Without the copy, adding the columns would\n",
        "modify the input DataFrame, which just isn’t polite.\n",
        "\n",
        "Finally, inplace operations don’t make sense in projects like ibis or\n",
        "dask, where you’re manipulating expressions or building up a DAG of\n",
        "tasks to be executed, rather than manipulating the data directly.\n",
        "\n",
        "### #19. Use `.query` and `eval` for fast, complex indexing\n",
        "\n",
        "The power of the PyData stack is built upon the ability of NumPy and\n",
        "pandas to push basic operations into C via an intuitive syntax: examples\n",
        "are vectorized/broadcasted operations in NumPy, and grouping-type\n",
        "operations in pandas. While these abstractions are efficient and\n",
        "effective for many common use cases, they often rely on the creation of\n",
        "temporary intermediate objects, which can cause undue overhead in\n",
        "computational time and memory use.\n",
        "\n",
        "As of version 0.13 (released January 2014), pandas includes some\n",
        "experimental tools that allow you to directly access C-speed operations\n",
        "without costly allocation of intermediate arrays. These are the `eval()`\n",
        "and `query()` functions, which rely on the Numexpr package.\n",
        "\n",
        "Please refer to the following notebooks and documentation on how and\n",
        "when to use them: - [High-Performance Pandas: eval() and\n",
        "query()](https://github.com/jads-nl/PythonDataScienceHandbook/blob/8a34a4f653bdbdc01415a94dc20d4e9b97438965/notebooks/03.12-Performance-Eval-and-Query.ipynb)\n",
        "by Jake VanderPlas - [pandas user guide on the query()\n",
        "method](https://pandas.pydata.org/docs/user_guide/indexing.html#the-query-method)"
      ],
      "id": "328312fd-b37a-4106-8d7e-edb6e3bcf21c"
    }
  ],
  "nbformat": 4,
  "nbformat_minor": 5,
  "metadata": {
    "celltoolbar": "Slideshow",
    "colab": {
      "name": "execute-programming-lecture.ipynb",
      "collapsed_sections": [
        "fMi5a0qeRuuG",
        "ibEQ66MKRuuI",
        "gyfZK5CSRuuK",
        "7nekwi8vRuug",
        "hitJLy0KRuuh"
      ],
      "include_colab_link": true,
      "provenance": [],
      "toc_visible": true
    },
    "kernelspec": {
      "name": "python3",
      "display_name": "Python 3.9.13 64-bit (‘3.9.13’)",
      "language": "python"
    },
    "language_info": {
      "name": "python",
      "codemirror_mode": {
        "name": "ipython",
        "version": "3"
      },
      "file_extension": ".py",
      "mimetype": "text/x-python",
      "nbconvert_exporter": "python",
      "pygments_lexer": "ipython3",
      "version": "3.9.13"
    },
    "rise": {
      "enable_chalkboard": true,
      "scroll": true,
      "theme": "white"
    },
    "toc": {
      "base_numbering": "1",
      "nav_menu": {},
      "number_sections": false,
      "sideBar": true,
      "skip_h1_title": true,
      "title_cell": "Table of Contents",
      "title_sidebar": "Contents",
      "toc_cell": false,
      "toc_position": {
        "height": "calc(100% - 180px)",
        "left": "10px",
        "top": "150px",
        "width": "467.2px"
      },
      "toc_section_display": true,
      "toc_window_display": true
    },
    "varInspector": {
      "cols": {
        "lenName": "16",
        "lenType": "16",
        "lenVar": "40"
      },
      "kernels_config": {
        "python": {
          "delete_cmd_postfix": "",
          "delete_cmd_prefix": "del",
          "library": "var_list.py",
          "varRefreshCmd": "print(var_dic_list())"
        },
        "r": {
          "delete_cmd_postfix": ")",
          "delete_cmd_prefix": "rm(",
          "library": "var_list.r",
          "varRefreshCmd": "cat(var_dic_list())"
        }
      },
      "types_to_exclude": [
        "module",
        "function",
        "builtin_function_or_method",
        "instance",
        "_Feature"
      ],
      "window_display": false
    },
    "vscode": {
      "interpreter": {
        "hash": "c4dde01d44a838367d108e92d4681a04b28ada3dfb364f789228e207e801c08c"
      }
    }
  }
}