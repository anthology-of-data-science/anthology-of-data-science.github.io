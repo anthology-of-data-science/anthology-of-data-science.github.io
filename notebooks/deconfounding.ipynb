{
  "cells": [
    {
      "cell_type": "raw",
      "id": "cf465642",
      "metadata": {},
      "source": [
        "---\n",
        "title: Deconfounding explained\n",
        "description: |\n",
        "    A demonstration howcorrelations 'magically' disappear if confounders are added to your model.\n",
        "date: 2022-09-18\n",
        "format: \n",
        "  html: default\n",
        "  ipynb: default\n",
        "---"
      ]
    },
    {
      "cell_type": "markdown",
      "id": "bae24efb-ca7f-4853-a7a2-f6fd009787f4",
      "metadata": {},
      "source": [
        "## Credits\n",
        "\n",
        "The original material for this demonstration was written in R by Jeroen\n",
        "de Mast. His original code was ported to Python by Daniel Kapitan.\n",
        "\n",
        "## Setting the scene\n",
        "\n",
        "Suppose that we want to test whether $X$ has a causal effect on $Y$:\n",
        "\n",
        "$$X \\longrightarrow Y$$\n",
        "\n",
        "And also we have 1000 $(X, Y)$ tuples as our data and that we want to\n",
        "build a regressions model.\n",
        "\n",
        "> **download this notebook**\n",
        ">\n",
        "> You can [download this page as a Jupyter\n",
        "> notebook](../../assets/notebooks/deconfounding.ipynb) (right-click\n",
        "> *“Save Link As …”*) if you want to work with the code yourself."
      ]
    },
    {
      "cell_type": "code",
      "execution_count": 1,
      "id": "8b58d4a9-20b5-4bc1-bc8d-034f96c7ee36",
      "metadata": {
        "executionInfo": {
          "elapsed": 484,
          "status": "ok",
          "timestamp": 1613145678641,
          "user": {
            "displayName": "Daniel Kapitan",
            "photoUrl": "https://lh3.googleusercontent.com/a-/AOh14GioH8_mX43j-mo7VD-XYrEuAJgexFj7ePvP_lgYYQ0=s64",
            "userId": "01543045592411283681"
          },
          "user_tz": -60
        }
      },
      "outputs": [],
      "source": [
        "import altair as alt\n",
        "import numpy as np\n",
        "import pandas as pd\n",
        "import statsmodels.formula.api as smf\n",
        "\n",
        "\n",
        "# setting up our experiment\n",
        "np.random.sample(1973)\n",
        "N = 1000\n",
        "C = np.random.normal(loc=0.0, scale=1.0, size=N)\n",
        "error_x = np.random.normal(loc=0.0, scale=1.0, size=N)\n",
        "error_y = np.random.normal(loc=0.0, scale=0.01, size=N)\n",
        "X = 10 + 5*C + error_x\n",
        "Y = 1 + 0.5*C + error_y\n",
        "df = pd.DataFrame({'X': X, 'Y': Y, 'C': C})"
      ]
    },
    {
      "cell_type": "code",
      "execution_count": 2,
      "id": "e06e779a-86ab-402f-a2ae-752306343ec0",
      "metadata": {
        "executionInfo": {
          "elapsed": 483,
          "status": "ok",
          "timestamp": 1613145679819,
          "user": {
            "displayName": "Daniel Kapitan",
            "photoUrl": "https://lh3.googleusercontent.com/a-/AOh14GioH8_mX43j-mo7VD-XYrEuAJgexFj7ePvP_lgYYQ0=s64",
            "userId": "01543045592411283681"
          },
          "user_tz": -60
        },
        "outputId": "e2bf795f-8de3-4ba5-946e-7443c1bc6e9b"
      },
      "outputs": [
        {
          "data": {
            "text/html": [
              "<br/><br/>Notes:<br/>[1] Standard Errors assume that the covariance matrix of the errors is correctly specified."
            ]
          },
          "metadata": {},
          "output_type": "display_data"
        }
      ],
      "source": [
        "confounded = smf.ols(\"Y ~ X\", data=df).fit()\n",
        "confounded.summary()"
      ]
    },
    {
      "cell_type": "markdown",
      "id": "cced38af-1c87-4493-b806-0371ca87b80c",
      "metadata": {},
      "source": [
        "So our first (confounded) model yields a result that $Y = 0.03 + 0.1X$.\n",
        "Note there can be small differences each time you re-run this notebook.\n",
        "But most importantly the fitted model has a high $R^2 = 0.95$ and high\n",
        "significance $p = 0.0$!\n",
        "\n",
        "However, if you look closely at the Python code, you see that the real\n",
        "model has a confounder $C$:\n",
        "\n",
        "$$C \\longrightarrow X$$\n",
        "$$C \\longrightarrow Y$$\n",
        "\n",
        "In other words, X and Y are both causally affected by C. As a\n",
        "consequence, X and Y are correlated, but they do not causally affect\n",
        "each other. So, the regression analysis above is actually wrong, and the\n",
        "correlation between X and Y is called *spurious*. C is called a\n",
        "confounder.\n",
        "\n",
        "Now here is the great deconfounding trick: suppose that we include both\n",
        "X and C in the regression analysis and fit the following modelL\n",
        "\n",
        "$$ Y = \\beta_0 + \\beta_1 X + \\beta_2 C + ϵ$$"
      ]
    },
    {
      "cell_type": "code",
      "execution_count": null,
      "id": "e6dc8e10-bc9d-408f-857e-54ca6065866b",
      "metadata": {
        "executionInfo": {
          "elapsed": 609,
          "status": "ok",
          "timestamp": 1613145682072,
          "user": {
            "displayName": "Daniel Kapitan",
            "photoUrl": "https://lh3.googleusercontent.com/a-/AOh14GioH8_mX43j-mo7VD-XYrEuAJgexFj7ePvP_lgYYQ0=s64",
            "userId": "01543045592411283681"
          },
          "user_tz": -60
        },
        "outputId": "0fb67f88-60a2-4aeb-ce77-5d8c3be7d2f4"
      },
      "outputs": [
        {
          "data": {
            "text/html": [
              "<br/><br/>Notes:<br/>[1] Standard Errors assume that the covariance matrix of the errors is correctly specified."
            ]
          },
          "metadata": {},
          "output_type": "display_data"
        }
      ],
      "source": [
        "deconfounded = smf.ols(\"Y ~ X + C\", data=df).fit()\n",
        "deconfounded.summary()"
      ]
    },
    {
      "cell_type": "markdown",
      "id": "938e4b9f-cfa4-4254-b67d-2b1f7dce6a54",
      "metadata": {},
      "source": [
        "Note that, by including $C$ as an independent variable in the regression\n",
        "analysis, suddenly X has stopped being significant (p=0.36)!\n",
        "\n",
        "This holds in general: if the true causal relationships are as given in\n",
        "the second diagram, then including the confounder C in the regression\n",
        "analysis gives the direct effect of X onto Y (if any such direct effect\n",
        "exists), and the part of the correlation that is induced by the\n",
        "confounder C is now entirely attributed to C and not to X. This approach\n",
        "is called “deconfounding”."
      ]
    }
  ],
  "metadata": {
    "colab": {
      "authorship_tag": "ABX9TyOqoaJ25ZN4YvBq8f0TuZN7",
      "name": "deconfounding-an-x/y-relationship.ipynb",
      "provenance": []
    },
    "kernelspec": {
      "display_name": "Python 3.10.6 64-bit (‘3.10.6’)",
      "language": "python",
      "name": "python3"
    },
    "language_info": {
      "codemirror_mode": {
        "name": "ipython",
        "version": "3"
      },
      "file_extension": ".py",
      "mimetype": "text/x-python",
      "name": "python",
      "nbconvert_exporter": "python",
      "pygments_lexer": "ipython3",
      "version": "3.10.6"
    },
    "vscode": {
      "interpreter": {
        "hash": "4e70b18b71e98226c1d5f256ca9ee8aff77d7eae8ad496899eddea08c09e503a"
      }
    }
  },
  "nbformat": 4,
  "nbformat_minor": 5
}
